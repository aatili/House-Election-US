{
 "cells": [
  {
   "cell_type": "markdown",
   "id": "6b210956",
   "metadata": {},
   "source": [
    "<a id='top'></a>\n",
    "## House Election USA\n",
    "* Note : Cells should run by order <br><br>\n",
    "\n",
    "https://www.openintro.org/data/?data=county_complete"
   ]
  },
  {
   "cell_type": "markdown",
   "id": "3f3b8689",
   "metadata": {},
   "source": [
    "[* Initial Exploring](#A) <br>\n",
    "[* Initial Pre-Processing](#pre1) <br>\n",
    "[* Graphs](#graph) <br>\n",
    "[* More Pre-Processing](#pre2) <br>\n",
    "\n",
    "[Feature Importance](#B) <br>\n",
    "[*PCA](#pca) <br>\n",
    "[*TSNE](#tsne) <br>\n",
    "\n",
    "[Regresstion: Turnout Percentage](#C) <br>\n",
    "[*Building Features](#c2) <br>\n",
    "[*Predicting Turnout](#c3) <br>\n",
    "[*Model 1: KNN](#cknn) <br>\n",
    "[*Model 2: Decision Tree Regression](#crf) <br>\n",
    "[*Model 3: Linear Regression](#clr) <br>\n",
    "\n",
    "[Classification Republican vs Democrartic](#D) <br>\n",
    "[* Building features](#d2) <br>\n",
    "[* Model 1: SVM](#dsvm) <br>\n",
    "[* Model 2: Random Forest](#drf) <br>\n",
    "[* Model 3: Decision Tree](#ddt) <br>\n"
   ]
  },
  {
   "cell_type": "markdown",
   "id": "b3bf2ace",
   "metadata": {},
   "source": [
    "### Importing libraries"
   ]
  },
  {
   "cell_type": "code",
   "execution_count": 397,
   "id": "05498a4f",
   "metadata": {},
   "outputs": [],
   "source": [
    "import pandas as pd\n",
    "import numpy as np\n",
    "import matplotlib.pyplot as plt\n",
    "import seaborn as sns\n",
    "import os\n",
    "import sys\n",
    "import math\n",
    "import random\n",
    "from sklearn.decomposition import PCA\n",
    "from sklearn.preprocessing import StandardScaler\n",
    "from sklearn.manifold import TSNE\n",
    "\n",
    "\n",
    "from sklearn import svm\n",
    "from sklearn.tree import DecisionTreeClassifier\n",
    "from sklearn.model_selection import train_test_split\n",
    "from sklearn.ensemble import AdaBoostClassifier\n",
    "from sklearn import metrics\n",
    "from sklearn.linear_model import LinearRegression\n",
    "from sklearn.tree import DecisionTreeRegressor\n",
    "from sklearn.preprocessing import LabelEncoder\n",
    "from sklearn.ensemble import RandomForestClassifier\n",
    "from sklearn.ensemble import RandomForestRegressor\n",
    "from sklearn.neighbors import KNeighborsClassifier\n",
    "from sklearn.neighbors import KNeighborsRegressor\n",
    "from sklearn.ensemble import GradientBoostingRegressor\n",
    "from sklearn.metrics import classification_report\n",
    "from sklearn.model_selection import train_test_split\n",
    "from sklearn.metrics import roc_auc_score\n",
    "from sklearn.model_selection import GridSearchCV\n",
    "from sklearn.metrics import confusion_matrix, accuracy_score, classification_report\n",
    "\n"
   ]
  },
  {
   "cell_type": "markdown",
   "id": "b43b6e50",
   "metadata": {},
   "source": [
    "### Reading Data"
   ]
  },
  {
   "cell_type": "code",
   "execution_count": 398,
   "id": "28214bcf",
   "metadata": {},
   "outputs": [
    {
     "name": "stderr",
     "output_type": "stream",
     "text": [
      "C:\\Users\\User\\anaconda3\\lib\\site-packages\\IPython\\core\\interactiveshell.py:3444: DtypeWarning: Columns (5,7) have mixed types.Specify dtype option on import or set low_memory=False.\n",
      "  exec(code_obj, self.user_global_ns, self.user_ns)\n"
     ]
    }
   ],
   "source": [
    "#for Section B\n",
    "land_area_df = pd.read_csv('data/CountyData/5296US_landarea.csv')\n",
    "county_complete_df = pd.read_csv('data/GeneralDemographicData/county_complete.csv')\n",
    "life_exp_df = pd.read_csv('data/LifeExpectancyData/IHME_USA_LIFE_EXPECTANCY_1987_2007_Y2011M06D16.csv')\n",
    "\n",
    "#for Section C\n",
    "house_df = pd.read_csv('data/USElectionResults19762020/1976-2020-house.csv')"
   ]
  },
  {
   "cell_type": "code",
   "execution_count": 399,
   "id": "8b7eb88a",
   "metadata": {},
   "outputs": [],
   "source": [
    "water_area_df = pd.read_csv('data/CountyData/5296US_waterarea.csv')"
   ]
  },
  {
   "cell_type": "markdown",
   "id": "caa5c0d4",
   "metadata": {},
   "source": [
    "<a id='A'></a>\n",
    "#### Data Exploration and Pre-processing"
   ]
  },
  {
   "cell_type": "code",
   "execution_count": 400,
   "id": "b90c7787",
   "metadata": {},
   "outputs": [
    {
     "data": {
      "text/html": [
       "<div>\n",
       "<style scoped>\n",
       "    .dataframe tbody tr th:only-of-type {\n",
       "        vertical-align: middle;\n",
       "    }\n",
       "\n",
       "    .dataframe tbody tr th {\n",
       "        vertical-align: top;\n",
       "    }\n",
       "\n",
       "    .dataframe thead th {\n",
       "        text-align: right;\n",
       "    }\n",
       "</style>\n",
       "<table border=\"1\" class=\"dataframe\">\n",
       "  <thead>\n",
       "    <tr style=\"text-align: right;\">\n",
       "      <th></th>\n",
       "      <th>FIPS</th>\n",
       "      <th>State</th>\n",
       "      <th>County</th>\n",
       "      <th>Land Area</th>\n",
       "    </tr>\n",
       "  </thead>\n",
       "  <tbody>\n",
       "    <tr>\n",
       "      <th>95</th>\n",
       "      <td>5027</td>\n",
       "      <td>Arkansas</td>\n",
       "      <td>Columbia</td>\n",
       "      <td>1984.4</td>\n",
       "    </tr>\n",
       "    <tr>\n",
       "      <th>235</th>\n",
       "      <td>8039</td>\n",
       "      <td>Colorado</td>\n",
       "      <td>Elbert</td>\n",
       "      <td>4793.8</td>\n",
       "    </tr>\n",
       "    <tr>\n",
       "      <th>123</th>\n",
       "      <td>5083</td>\n",
       "      <td>Arkansas</td>\n",
       "      <td>Logan</td>\n",
       "      <td>1838.7</td>\n",
       "    </tr>\n",
       "    <tr>\n",
       "      <th>1187</th>\n",
       "      <td>25011</td>\n",
       "      <td>Massachusetts</td>\n",
       "      <td>Franklin</td>\n",
       "      <td>1818.6</td>\n",
       "    </tr>\n",
       "    <tr>\n",
       "      <th>553</th>\n",
       "      <td>16075</td>\n",
       "      <td>Idaho</td>\n",
       "      <td>Payette</td>\n",
       "      <td>1055.5</td>\n",
       "    </tr>\n",
       "  </tbody>\n",
       "</table>\n",
       "</div>"
      ],
      "text/plain": [
       "       FIPS          State    County  Land Area\n",
       "95     5027       Arkansas  Columbia     1984.4\n",
       "235    8039       Colorado    Elbert     4793.8\n",
       "123    5083       Arkansas     Logan     1838.7\n",
       "1187  25011  Massachusetts  Franklin     1818.6\n",
       "553   16075          Idaho   Payette     1055.5"
      ]
     },
     "execution_count": 400,
     "metadata": {},
     "output_type": "execute_result"
    }
   ],
   "source": [
    "land_area_df.sample(5)"
   ]
  },
  {
   "cell_type": "code",
   "execution_count": 401,
   "id": "2a69c837",
   "metadata": {},
   "outputs": [
    {
     "data": {
      "text/html": [
       "<div>\n",
       "<style scoped>\n",
       "    .dataframe tbody tr th:only-of-type {\n",
       "        vertical-align: middle;\n",
       "    }\n",
       "\n",
       "    .dataframe tbody tr th {\n",
       "        vertical-align: top;\n",
       "    }\n",
       "\n",
       "    .dataframe thead th {\n",
       "        text-align: right;\n",
       "    }\n",
       "</style>\n",
       "<table border=\"1\" class=\"dataframe\">\n",
       "  <thead>\n",
       "    <tr style=\"text-align: right;\">\n",
       "      <th></th>\n",
       "      <th>fips</th>\n",
       "      <th>state</th>\n",
       "      <th>name</th>\n",
       "      <th>pop2000</th>\n",
       "      <th>pop2010</th>\n",
       "      <th>pop2011</th>\n",
       "      <th>pop2012</th>\n",
       "      <th>pop2013</th>\n",
       "      <th>pop2014</th>\n",
       "      <th>pop2015</th>\n",
       "      <th>...</th>\n",
       "      <th>poverty_under_18_2019</th>\n",
       "      <th>two_plus_races_2019</th>\n",
       "      <th>unemployment_rate_2019</th>\n",
       "      <th>uninsured_2019</th>\n",
       "      <th>uninsured_65_and_older_2019</th>\n",
       "      <th>uninsured_under_19_2019</th>\n",
       "      <th>uninsured_under_6_2019</th>\n",
       "      <th>veterans_2019</th>\n",
       "      <th>white_2019</th>\n",
       "      <th>white_not_hispanic_2019</th>\n",
       "    </tr>\n",
       "  </thead>\n",
       "  <tbody>\n",
       "    <tr>\n",
       "      <th>1420</th>\n",
       "      <td>28039</td>\n",
       "      <td>Mississippi</td>\n",
       "      <td>George County</td>\n",
       "      <td>19144.0</td>\n",
       "      <td>22578</td>\n",
       "      <td>22845.0</td>\n",
       "      <td>22906.0</td>\n",
       "      <td>23199.0</td>\n",
       "      <td>23310.0</td>\n",
       "      <td>23409.0</td>\n",
       "      <td>...</td>\n",
       "      <td>NaN</td>\n",
       "      <td>1.3</td>\n",
       "      <td>13.1</td>\n",
       "      <td>17.9</td>\n",
       "      <td>0.0</td>\n",
       "      <td>8.1</td>\n",
       "      <td>5.6</td>\n",
       "      <td>8.9</td>\n",
       "      <td>88.9</td>\n",
       "      <td>87.1</td>\n",
       "    </tr>\n",
       "    <tr>\n",
       "      <th>2045</th>\n",
       "      <td>39005</td>\n",
       "      <td>Ohio</td>\n",
       "      <td>Ashland County</td>\n",
       "      <td>52523.0</td>\n",
       "      <td>53139</td>\n",
       "      <td>53247.0</td>\n",
       "      <td>53233.0</td>\n",
       "      <td>53118.0</td>\n",
       "      <td>53107.0</td>\n",
       "      <td>53224.0</td>\n",
       "      <td>...</td>\n",
       "      <td>21.5</td>\n",
       "      <td>1.6</td>\n",
       "      <td>3.2</td>\n",
       "      <td>8.9</td>\n",
       "      <td>1.2</td>\n",
       "      <td>13.6</td>\n",
       "      <td>21.3</td>\n",
       "      <td>7.9</td>\n",
       "      <td>96.7</td>\n",
       "      <td>95.6</td>\n",
       "    </tr>\n",
       "    <tr>\n",
       "      <th>1411</th>\n",
       "      <td>28021</td>\n",
       "      <td>Mississippi</td>\n",
       "      <td>Claiborne County</td>\n",
       "      <td>11831.0</td>\n",
       "      <td>9604</td>\n",
       "      <td>9781.0</td>\n",
       "      <td>9354.0</td>\n",
       "      <td>9145.0</td>\n",
       "      <td>9164.0</td>\n",
       "      <td>9143.0</td>\n",
       "      <td>...</td>\n",
       "      <td>NaN</td>\n",
       "      <td>0.2</td>\n",
       "      <td>12.5</td>\n",
       "      <td>15.6</td>\n",
       "      <td>0.8</td>\n",
       "      <td>8.2</td>\n",
       "      <td>2.2</td>\n",
       "      <td>4.8</td>\n",
       "      <td>11.3</td>\n",
       "      <td>11.3</td>\n",
       "    </tr>\n",
       "  </tbody>\n",
       "</table>\n",
       "<p>3 rows × 188 columns</p>\n",
       "</div>"
      ],
      "text/plain": [
       "       fips        state              name  pop2000  pop2010  pop2011  \\\n",
       "1420  28039  Mississippi     George County  19144.0    22578  22845.0   \n",
       "2045  39005         Ohio    Ashland County  52523.0    53139  53247.0   \n",
       "1411  28021  Mississippi  Claiborne County  11831.0     9604   9781.0   \n",
       "\n",
       "      pop2012  pop2013  pop2014  pop2015  ...  poverty_under_18_2019  \\\n",
       "1420  22906.0  23199.0  23310.0  23409.0  ...                    NaN   \n",
       "2045  53233.0  53118.0  53107.0  53224.0  ...                   21.5   \n",
       "1411   9354.0   9145.0   9164.0   9143.0  ...                    NaN   \n",
       "\n",
       "      two_plus_races_2019  unemployment_rate_2019  uninsured_2019  \\\n",
       "1420                  1.3                    13.1            17.9   \n",
       "2045                  1.6                     3.2             8.9   \n",
       "1411                  0.2                    12.5            15.6   \n",
       "\n",
       "      uninsured_65_and_older_2019  uninsured_under_19_2019  \\\n",
       "1420                          0.0                      8.1   \n",
       "2045                          1.2                     13.6   \n",
       "1411                          0.8                      8.2   \n",
       "\n",
       "      uninsured_under_6_2019  veterans_2019  white_2019  \\\n",
       "1420                     5.6            8.9        88.9   \n",
       "2045                    21.3            7.9        96.7   \n",
       "1411                     2.2            4.8        11.3   \n",
       "\n",
       "      white_not_hispanic_2019  \n",
       "1420                     87.1  \n",
       "2045                     95.6  \n",
       "1411                     11.3  \n",
       "\n",
       "[3 rows x 188 columns]"
      ]
     },
     "execution_count": 401,
     "metadata": {},
     "output_type": "execute_result"
    }
   ],
   "source": [
    "county_complete_df.sample(3)"
   ]
  },
  {
   "cell_type": "code",
   "execution_count": 402,
   "id": "7476cea2",
   "metadata": {},
   "outputs": [
    {
     "data": {
      "text/html": [
       "<div>\n",
       "<style scoped>\n",
       "    .dataframe tbody tr th:only-of-type {\n",
       "        vertical-align: middle;\n",
       "    }\n",
       "\n",
       "    .dataframe tbody tr th {\n",
       "        vertical-align: top;\n",
       "    }\n",
       "\n",
       "    .dataframe thead th {\n",
       "        text-align: right;\n",
       "    }\n",
       "</style>\n",
       "<table border=\"1\" class=\"dataframe\">\n",
       "  <thead>\n",
       "    <tr style=\"text-align: right;\">\n",
       "      <th></th>\n",
       "      <th>fips</th>\n",
       "      <th>State</th>\n",
       "      <th>County</th>\n",
       "      <th>Year</th>\n",
       "      <th>Male life expectancy (years)</th>\n",
       "      <th>Years behind international frontier (male)</th>\n",
       "      <th>Female life expectancy (years)</th>\n",
       "      <th>Years behind international frontier (female)</th>\n",
       "      <th>White male life expectancy (years)</th>\n",
       "      <th>White female life expectancy (years)</th>\n",
       "      <th>...</th>\n",
       "      <th>Closest ranked countries for male life expectancy (lower)</th>\n",
       "      <th>Closest ranked countries for female life expectancy (lower)</th>\n",
       "      <th>Rank (male)</th>\n",
       "      <th>Rank (female)</th>\n",
       "      <th>Male life expectancy change 1987 to 2007 (years)</th>\n",
       "      <th>Female life expectancy change 1987 to 2007 (years)</th>\n",
       "      <th>Male life expectancy change 1987 to 1997 (years)</th>\n",
       "      <th>Female life expectancy change 1987 to 1997 (years)</th>\n",
       "      <th>Male life expectancy change 1997 to 2007 (years)</th>\n",
       "      <th>Female life expectancy change 1997 to 2007 (years)</th>\n",
       "    </tr>\n",
       "  </thead>\n",
       "  <tbody>\n",
       "    <tr>\n",
       "      <th>21135</th>\n",
       "      <td>21025</td>\n",
       "      <td>KENTUCKY</td>\n",
       "      <td>BREATHITT</td>\n",
       "      <td>1996</td>\n",
       "      <td>68.5</td>\n",
       "      <td>45</td>\n",
       "      <td>77.0</td>\n",
       "      <td>23</td>\n",
       "      <td>68.5</td>\n",
       "      <td>77.0</td>\n",
       "      <td>...</td>\n",
       "      <td>China,Lebanon,Poland,Slovakia,Viet Nam</td>\n",
       "      <td>Argentina,Aruba,Panama,Poland,Slovakia</td>\n",
       "      <td>2994</td>\n",
       "      <td>2889</td>\n",
       "      <td>0.0</td>\n",
       "      <td>-1.1</td>\n",
       "      <td>0.0</td>\n",
       "      <td>0.2</td>\n",
       "      <td>0.0</td>\n",
       "      <td>-1.3</td>\n",
       "    </tr>\n",
       "    <tr>\n",
       "      <th>54826</th>\n",
       "      <td>48171</td>\n",
       "      <td>TEXAS</td>\n",
       "      <td>GILLESPIE</td>\n",
       "      <td>2003</td>\n",
       "      <td>75.7</td>\n",
       "      <td>9</td>\n",
       "      <td>81.0</td>\n",
       "      <td>11</td>\n",
       "      <td>75.7</td>\n",
       "      <td>81.0</td>\n",
       "      <td>...</td>\n",
       "      <td>Belgium,Cuba,Ireland,Kuwait,Luxembourg</td>\n",
       "      <td>Channel Islands,Chile,Malta,Portugal,United Ki...</td>\n",
       "      <td>481</td>\n",
       "      <td>363</td>\n",
       "      <td>4.7</td>\n",
       "      <td>2.0</td>\n",
       "      <td>2.8</td>\n",
       "      <td>0.9</td>\n",
       "      <td>1.9</td>\n",
       "      <td>1.1</td>\n",
       "    </tr>\n",
       "    <tr>\n",
       "      <th>6004</th>\n",
       "      <td>8079</td>\n",
       "      <td>COLORADO</td>\n",
       "      <td>MINERAL</td>\n",
       "      <td>2006</td>\n",
       "      <td>75.5</td>\n",
       "      <td>13</td>\n",
       "      <td>81.2</td>\n",
       "      <td>13</td>\n",
       "      <td>75.4</td>\n",
       "      <td>81.2</td>\n",
       "      <td>...</td>\n",
       "      <td>Brunei Darussalam,Chile,Korea, Republic of,Por...</td>\n",
       "      <td>Costa Rica,Greece,Malta,Reunion,United States</td>\n",
       "      <td>956</td>\n",
       "      <td>483</td>\n",
       "      <td>3.5</td>\n",
       "      <td>1.5</td>\n",
       "      <td>1.8</td>\n",
       "      <td>0.7</td>\n",
       "      <td>1.7</td>\n",
       "      <td>0.8</td>\n",
       "    </tr>\n",
       "  </tbody>\n",
       "</table>\n",
       "<p>3 rows × 24 columns</p>\n",
       "</div>"
      ],
      "text/plain": [
       "        fips     State     County  Year  Male life expectancy (years)  \\\n",
       "21135  21025  KENTUCKY  BREATHITT  1996                          68.5   \n",
       "54826  48171     TEXAS  GILLESPIE  2003                          75.7   \n",
       "6004    8079  COLORADO    MINERAL  2006                          75.5   \n",
       "\n",
       "      Years behind international frontier (male)  \\\n",
       "21135                                         45   \n",
       "54826                                          9   \n",
       "6004                                          13   \n",
       "\n",
       "       Female life expectancy (years)  \\\n",
       "21135                            77.0   \n",
       "54826                            81.0   \n",
       "6004                             81.2   \n",
       "\n",
       "      Years behind international frontier (female)  \\\n",
       "21135                                           23   \n",
       "54826                                           11   \n",
       "6004                                            13   \n",
       "\n",
       "       White male life expectancy (years)  \\\n",
       "21135                                68.5   \n",
       "54826                                75.7   \n",
       "6004                                 75.4   \n",
       "\n",
       "       White female life expectancy (years)  ...  \\\n",
       "21135                                  77.0  ...   \n",
       "54826                                  81.0  ...   \n",
       "6004                                   81.2  ...   \n",
       "\n",
       "       Closest ranked countries for male life expectancy (lower)  \\\n",
       "21135             China,Lebanon,Poland,Slovakia,Viet Nam           \n",
       "54826             Belgium,Cuba,Ireland,Kuwait,Luxembourg           \n",
       "6004   Brunei Darussalam,Chile,Korea, Republic of,Por...           \n",
       "\n",
       "       Closest ranked countries for female life expectancy (lower)  \\\n",
       "21135             Argentina,Aruba,Panama,Poland,Slovakia             \n",
       "54826  Channel Islands,Chile,Malta,Portugal,United Ki...             \n",
       "6004       Costa Rica,Greece,Malta,Reunion,United States             \n",
       "\n",
       "      Rank (male) Rank (female)  \\\n",
       "21135        2994          2889   \n",
       "54826         481           363   \n",
       "6004          956           483   \n",
       "\n",
       "      Male life expectancy change 1987 to 2007 (years)  \\\n",
       "21135                                              0.0   \n",
       "54826                                              4.7   \n",
       "6004                                               3.5   \n",
       "\n",
       "      Female life expectancy change 1987 to 2007 (years)  \\\n",
       "21135                                               -1.1   \n",
       "54826                                                2.0   \n",
       "6004                                                 1.5   \n",
       "\n",
       "       Male life expectancy change 1987 to 1997 (years)  \\\n",
       "21135                                               0.0   \n",
       "54826                                               2.8   \n",
       "6004                                                1.8   \n",
       "\n",
       "       Female life expectancy change 1987 to 1997 (years)  \\\n",
       "21135                                                0.2    \n",
       "54826                                                0.9    \n",
       "6004                                                 0.7    \n",
       "\n",
       "       Male life expectancy change 1997 to 2007 (years)  \\\n",
       "21135                                               0.0   \n",
       "54826                                               1.9   \n",
       "6004                                                1.7   \n",
       "\n",
       "       Female life expectancy change 1997 to 2007 (years)  \n",
       "21135                                               -1.3   \n",
       "54826                                                1.1   \n",
       "6004                                                 0.8   \n",
       "\n",
       "[3 rows x 24 columns]"
      ]
     },
     "execution_count": 402,
     "metadata": {},
     "output_type": "execute_result"
    }
   ],
   "source": [
    "life_exp_df.sample(3)"
   ]
  },
  {
   "cell_type": "code",
   "execution_count": 403,
   "id": "e330b387",
   "metadata": {},
   "outputs": [],
   "source": [
    "#house_df.sample(3)"
   ]
  },
  {
   "cell_type": "markdown",
   "id": "fa6fc5a2",
   "metadata": {},
   "source": [
    "<a id='pre1'></a>\n",
    "### Initial Pre-Proccessing:\n",
    "* Upper/Lower case columns, column names\n",
    "* Focusing on states: 'California', 'Florida', 'South Dakota', 'Wyoming'\n",
    "\n",
    "[Back to Top](#top)<br>"
   ]
  },
  {
   "cell_type": "code",
   "execution_count": 404,
   "id": "cba30479",
   "metadata": {},
   "outputs": [],
   "source": [
    "#creating copies\n",
    "land_area_df_b = land_area_df.copy()\n",
    "county_complete_df_b = county_complete_df.copy()\n",
    "life_exp_df_b = life_exp_df.copy()\n",
    "\n",
    "#renaming columns - to have matching names on each table\n",
    "land_area_df_b.rename({\"FIPS\": \"fips\"}, axis=\"columns\", inplace=True)\n",
    "land_area_df_b.rename({\"State\": \"state\"}, axis=\"columns\", inplace=True)\n",
    "land_area_df_b.rename({\"County\": \"county\"}, axis=\"columns\", inplace=True)\n",
    "\n",
    "life_exp_df_b.rename({\"County\": \"county\"}, axis=\"columns\", inplace=True)\n",
    "life_exp_df_b.rename({\"State\": \"state\"}, axis=\"columns\", inplace=True)\n",
    "\n",
    "\n",
    "#unifying upper/lower cases\n",
    "land_area_df_b['state'] = land_area_df_b['state'].astype(str).str.upper()\n",
    "county_complete_df_b['state'] = county_complete_df_b['state'].astype(str).str.upper()\n",
    "life_exp_df_b['state'] = life_exp_df_b['state'].astype(str).str.upper()\n",
    "\n",
    "land_area_df_b['county'] = land_area_df_b['county'].astype(str).str.upper()\n",
    "life_exp_df_b['county'] = life_exp_df_b['county'].astype(str).str.upper()\n",
    "\n",
    "states_list = ['California', 'Florida', 'South Dakota', 'Wyoming']\n",
    "for i in range(0,len(states_list)):\n",
    "    states_list[i] = states_list[i].upper()\n",
    "\n",
    "#removing irrelevant states\n",
    "land_area_df_b2 = land_area_df_b[land_area_df_b['state'].isin(states_list)]\n",
    "life_exp_df_b2 = life_exp_df_b[life_exp_df_b['state'].isin(states_list)]\n",
    "county_complete_df_b2 = county_complete_df_b[county_complete_df_b['state'].isin(states_list)]\n"
   ]
  },
  {
   "cell_type": "code",
   "execution_count": 405,
   "id": "455a99ec",
   "metadata": {},
   "outputs": [
    {
     "name": "stdout",
     "output_type": "stream",
     "text": [
      "Top 10 Largest Land Counties:\n"
     ]
    },
    {
     "data": {
      "text/html": [
       "<div>\n",
       "<style scoped>\n",
       "    .dataframe tbody tr th:only-of-type {\n",
       "        vertical-align: middle;\n",
       "    }\n",
       "\n",
       "    .dataframe tbody tr th {\n",
       "        vertical-align: top;\n",
       "    }\n",
       "\n",
       "    .dataframe thead th {\n",
       "        text-align: right;\n",
       "    }\n",
       "</style>\n",
       "<table border=\"1\" class=\"dataframe\">\n",
       "  <thead>\n",
       "    <tr style=\"text-align: right;\">\n",
       "      <th></th>\n",
       "      <th>fips</th>\n",
       "      <th>county</th>\n",
       "      <th>state</th>\n",
       "      <th>Land Area</th>\n",
       "    </tr>\n",
       "  </thead>\n",
       "  <tbody>\n",
       "    <tr>\n",
       "      <th>35</th>\n",
       "      <td>6071</td>\n",
       "      <td>SAN BERNARDINO</td>\n",
       "      <td>CALIFORNIA</td>\n",
       "      <td>51960.0</td>\n",
       "    </tr>\n",
       "    <tr>\n",
       "      <th>209</th>\n",
       "      <td>56037</td>\n",
       "      <td>SWEETWATER</td>\n",
       "      <td>WYOMING</td>\n",
       "      <td>27003.0</td>\n",
       "    </tr>\n",
       "    <tr>\n",
       "      <th>13</th>\n",
       "      <td>6027</td>\n",
       "      <td>INYO</td>\n",
       "      <td>CALIFORNIA</td>\n",
       "      <td>26397.5</td>\n",
       "    </tr>\n",
       "    <tr>\n",
       "      <th>197</th>\n",
       "      <td>56013</td>\n",
       "      <td>FREMONT</td>\n",
       "      <td>WYOMING</td>\n",
       "      <td>23783.1</td>\n",
       "    </tr>\n",
       "    <tr>\n",
       "      <th>14</th>\n",
       "      <td>6029</td>\n",
       "      <td>KERN</td>\n",
       "      <td>CALIFORNIA</td>\n",
       "      <td>21086.8</td>\n",
       "    </tr>\n",
       "    <tr>\n",
       "      <th>194</th>\n",
       "      <td>56007</td>\n",
       "      <td>CARBON</td>\n",
       "      <td>WYOMING</td>\n",
       "      <td>20452.1</td>\n",
       "    </tr>\n",
       "    <tr>\n",
       "      <th>32</th>\n",
       "      <td>6065</td>\n",
       "      <td>RIVERSIDE</td>\n",
       "      <td>CALIFORNIA</td>\n",
       "      <td>18669.1</td>\n",
       "    </tr>\n",
       "    <tr>\n",
       "      <th>205</th>\n",
       "      <td>56029</td>\n",
       "      <td>PARK</td>\n",
       "      <td>WYOMING</td>\n",
       "      <td>17981.7</td>\n",
       "    </tr>\n",
       "    <tr>\n",
       "      <th>46</th>\n",
       "      <td>6093</td>\n",
       "      <td>SISKIYOU</td>\n",
       "      <td>CALIFORNIA</td>\n",
       "      <td>16284.0</td>\n",
       "    </tr>\n",
       "    <tr>\n",
       "      <th>9</th>\n",
       "      <td>6019</td>\n",
       "      <td>FRESNO</td>\n",
       "      <td>CALIFORNIA</td>\n",
       "      <td>15444.7</td>\n",
       "    </tr>\n",
       "  </tbody>\n",
       "</table>\n",
       "</div>"
      ],
      "text/plain": [
       "      fips          county       state  Land Area\n",
       "35    6071  SAN BERNARDINO  CALIFORNIA    51960.0\n",
       "209  56037      SWEETWATER     WYOMING    27003.0\n",
       "13    6027            INYO  CALIFORNIA    26397.5\n",
       "197  56013         FREMONT     WYOMING    23783.1\n",
       "14    6029            KERN  CALIFORNIA    21086.8\n",
       "194  56007          CARBON     WYOMING    20452.1\n",
       "32    6065       RIVERSIDE  CALIFORNIA    18669.1\n",
       "205  56029            PARK     WYOMING    17981.7\n",
       "46    6093        SISKIYOU  CALIFORNIA    16284.0\n",
       "9     6019          FRESNO  CALIFORNIA    15444.7"
      ]
     },
     "metadata": {},
     "output_type": "display_data"
    }
   ],
   "source": [
    "#Largest counties\n",
    "grouped_df = land_area_df_b2.groupby([\"fips\", 'county' , 'state'])\n",
    "sum_df = grouped_df['Land Area'].sum().reset_index()\n",
    "df_list = sum_df.nlargest(10, 'Land Area')\n",
    "print(\"Top 10 Largest Land Counties:\")\n",
    "display(df_list)"
   ]
  },
  {
   "cell_type": "code",
   "execution_count": 406,
   "id": "9afa7daf",
   "metadata": {},
   "outputs": [],
   "source": [
    "life_exp_df_b2 = life_exp_df_b2 [[  'fips' , 'state' , 'Year'\n",
    "                                 , 'county' , 'Male life expectancy (years)' ,\n",
    "                                  'Female life expectancy (years)' , 'Rank (male)' , 'Rank (female)' , \n",
    "                                  'Male life expectancy change 1997 to 2007 (years)',\n",
    "                                'Female life expectancy change 1997 to 2007 (years)']]\n",
    "\n",
    "\n"
   ]
  },
  {
   "cell_type": "markdown",
   "id": "f187a23e",
   "metadata": {},
   "source": [
    "<a id='graph'></a>\n",
    "### Displaying Data in Graphs:\n",
    "\n",
    "[Back to Top](#top)<br>"
   ]
  },
  {
   "cell_type": "code",
   "execution_count": 407,
   "id": "b9f0b51d",
   "metadata": {},
   "outputs": [
    {
     "data": {
      "image/png": "[encoded data removed]",
      "text/plain": [
       "<Figure size 864x288 with 1 Axes>"
      ]
     },
     "metadata": {
      "needs_background": "light"
     },
     "output_type": "display_data"
    },
    {
     "data": {
      "image/png": "[encoded data removed]",
      "text/plain": [
       "<Figure size 864x288 with 1 Axes>"
      ]
     },
     "metadata": {
      "needs_background": "light"
     },
     "output_type": "display_data"
    }
   ],
   "source": [
    "plt.figure(figsize=(12,4))\n",
    "for i in states_list:\n",
    "    temp_df = life_exp_df_b2[life_exp_df_b2['state'] == i]\n",
    "    grouped_df = temp_df.groupby(\"Year\")\n",
    "    mean_df = grouped_df['Male life expectancy (years)'].mean()\n",
    "    plt.xticks(ticks = [i for i in range (1987,2008,2)] , labels = [str(i) for i in range (1987,2008,2)] )\n",
    "    plt.plot(mean_df, label = str(i))\n",
    "plt.title(\"Male life expectancy (years) over the years in each state\")\n",
    "plt.legend()\n",
    "plt.show()\n",
    "\n",
    "\n",
    "\n",
    "plt.figure(figsize=(12,4))\n",
    "for i in states_list:\n",
    "    temp_df = life_exp_df_b2[life_exp_df_b2['state'] == i]\n",
    "    grouped_df = temp_df.groupby(\"Year\")\n",
    "    mean_df = grouped_df['Female life expectancy (years)'].mean()\n",
    "    plt.xticks(ticks = [i for i in range (1987,2008,2)] , labels = [str(i) for i in range (1987,2008,2)] )\n",
    "    plt.plot(mean_df, label = str(i))\n",
    "plt.title(\"Female life expectancy (years) over the years in each state\")\n",
    "plt.legend()\n",
    "plt.show()\n",
    "\n",
    "\n"
   ]
  },
  {
   "cell_type": "code",
   "execution_count": 408,
   "id": "4b840c9f",
   "metadata": {},
   "outputs": [
    {
     "data": {
      "image/png": "[encoded data removed]",
      "text/plain": [
       "<Figure size 432x288 with 1 Axes>"
      ]
     },
     "metadata": {
      "needs_background": "light"
     },
     "output_type": "display_data"
    },
    {
     "data": {
      "image/png": "[encoded data removed]",
      "text/plain": [
       "<Figure size 432x288 with 1 Axes>"
      ]
     },
     "metadata": {
      "needs_background": "light"
     },
     "output_type": "display_data"
    }
   ],
   "source": [
    "pos = -0.3\n",
    "width = 0.25\n",
    "for i in ['CALIFORNIA' , 'FLORIDA', 'WYOMING' , 'SOUTH DAKOTA']:\n",
    "    temp_df = county_complete_df_b2[county_complete_df_b2['state'] == i]\n",
    "    grouped_df = temp_df.groupby([\"state\"]).agg({'pop2010': ['sum'] , 'pop2011': ['sum'], 'pop2012': ['sum'], \n",
    "                                                 'pop2013': ['sum'] , 'pop2014': ['sum'], 'pop2015': ['sum'],\n",
    "                                                 'pop2016': ['sum'] , 'pop2017': ['sum']}).reset_index()\n",
    "    mean_df = pd.melt(grouped_df, id_vars='state')\n",
    "    mean_df['variable_0'] = mean_df['variable_0'].str[3:]\n",
    "    mean_df['variable_0'] = pd.to_numeric(mean_df['variable_0'])\n",
    "    dif , yr = [] , []\n",
    "    for index in range(2011,2018):\n",
    "        current = mean_df[mean_df['variable_0'] == index]\n",
    "        current = current['value'].iloc[0]\n",
    "        prev = mean_df[mean_df['variable_0'] == index-1]\n",
    "        prev = prev['value'].iloc[0]\n",
    "        dif.append(abs(current-prev))\n",
    "        yr.append(index+pos)\n",
    "    plt.bar(yr , dif , width , label = str(i))\n",
    "    pos += 0.2\n",
    "    plt.legend()\n",
    "    plt.title(\"Population Growth per Year\")\n",
    "    if i =='FLORIDA' or i=='SOUTH DAKOTA' :\n",
    "        plt.show()"
   ]
  },
  {
   "cell_type": "code",
   "execution_count": 409,
   "id": "f6edb3b6",
   "metadata": {},
   "outputs": [
    {
     "data": {
      "image/png": "[encoded data removed]",
      "text/plain": [
       "<Figure size 864x864 with 4 Axes>"
      ]
     },
     "metadata": {},
     "output_type": "display_data"
    }
   ],
   "source": [
    "plt.figure(figsize=(12,12))\n",
    "plt.subplots_adjust(wspace = 0.4)\n",
    "\n",
    "\n",
    "\n",
    "ethnic = [ 'Black' , 'White' ,  'Hispanic' , 'Other']\n",
    "my_colors = [ 'orange' , 'mediumslateblue' , 'green' , 'red']\n",
    "j = 1\n",
    "for i in states_list:\n",
    "    perc = []\n",
    "    plt.subplot(2,2, j)\n",
    "    temp_df = county_complete_df_b2[county_complete_df_b2['state']== i]\n",
    "    grouped_df = temp_df.groupby([\"state\"]).agg({'white_not_hispanic_2019': ['mean'] , 'black_2019': ['mean'],\n",
    "                                                 'hispanic_2019': ['mean']}).reset_index()\n",
    "    perc.append(grouped_df.iloc[0][('black_2019','mean')])\n",
    "    perc.append(grouped_df.iloc[0][('white_not_hispanic_2019','mean')])\n",
    "    perc.append(grouped_df.iloc[0][('hispanic_2019','mean')])\n",
    "    perc.append( 100 - (perc[0]+perc[1]+perc[2]) )\n",
    "    plt.pie(perc, labels = ethnic , colors = my_colors)\n",
    "    plt.title (\"Race percentage in population in the state of: \" + str(i))\n",
    "    j+=1\n",
    "\n",
    "plt.show() \n"
   ]
  },
  {
   "cell_type": "markdown",
   "id": "710c254b",
   "metadata": {},
   "source": [
    "<a id='pre2'></a>\n",
    "### More Pre-Proccessing:\n",
    "* Selecting columns we thought will be more relevant over 3 datasets\n",
    "* Mergin datasets into one \n",
    "\n",
    "[Back to Top](#top)<br>"
   ]
  },
  {
   "cell_type": "code",
   "execution_count": 410,
   "id": "3f91c437",
   "metadata": {},
   "outputs": [],
   "source": [
    "life_exp_df_b3 = life_exp_df_b2.copy()\n",
    "life_exp_df_b3 = life_exp_df_b3[life_exp_df_b3['Year'] == 2007]\n",
    "\n",
    "life_exp_df_b3.drop(['Year'], axis=1, inplace=True)\n",
    "\n",
    "\n",
    "county_complete_df_b2 = county_complete_df_b2 [[ 'fips' , 'state' , 'pop_2019' , 'median_age_2019' ,'veterans_2019' , 'white_2019' ,'black_2019' , 'hispanic_2019'\n",
    ",'unemployment_rate_2019' ,'uninsured_2019' ,'density_2010' ,'median_individual_income_2019' ,\n",
    "'household_has_computer_2019' , 'avg_family_size_2019' ]]\n",
    "\n",
    "df_secB = county_complete_df_b2.merge(land_area_df_b2, on=['fips' , 'state']) \n",
    "df_secB.drop(['county'], axis=1, inplace=True)\n",
    "\n",
    "df_secB = df_secB.merge(life_exp_df_b3 , on=['fips' , 'state'])\n",
    "\n"
   ]
  },
  {
   "cell_type": "markdown",
   "id": "64b94fb5",
   "metadata": {},
   "source": [
    "##### Checking for NaN values"
   ]
  },
  {
   "cell_type": "code",
   "execution_count": 411,
   "id": "2249d58a",
   "metadata": {},
   "outputs": [
    {
     "data": {
      "text/plain": [
       "fips                                                  0\n",
       "state                                                 0\n",
       "pop_2019                                              0\n",
       "median_age_2019                                       0\n",
       "veterans_2019                                         0\n",
       "white_2019                                            0\n",
       "black_2019                                            0\n",
       "hispanic_2019                                         0\n",
       "unemployment_rate_2019                                0\n",
       "uninsured_2019                                        0\n",
       "density_2010                                          0\n",
       "median_individual_income_2019                         0\n",
       "household_has_computer_2019                           0\n",
       "avg_family_size_2019                                  0\n",
       "Land Area                                             0\n",
       "county                                                0\n",
       "Male life expectancy (years)                          0\n",
       "Female life expectancy (years)                        0\n",
       "Rank (male)                                           0\n",
       "Rank (female)                                         0\n",
       "Male life expectancy change 1997 to 2007 (years)      0\n",
       "Female life expectancy change 1997 to 2007 (years)    0\n",
       "dtype: int64"
      ]
     },
     "execution_count": 411,
     "metadata": {},
     "output_type": "execute_result"
    }
   ],
   "source": [
    "df_secB.isna().sum()"
   ]
  },
  {
   "cell_type": "markdown",
   "id": "fd789612",
   "metadata": {},
   "source": [
    "<a id='B'></a>\n",
    "[Back to Top](#top)<br>"
   ]
  },
  {
   "cell_type": "code",
   "execution_count": 412,
   "id": "6f11cf10",
   "metadata": {},
   "outputs": [],
   "source": [
    "features = list(df_secB.columns)"
   ]
  },
  {
   "cell_type": "code",
   "execution_count": 413,
   "id": "f3436a28",
   "metadata": {},
   "outputs": [
    {
     "data": {
      "text/plain": [
       "['pop_2019',\n",
       " 'median_age_2019',\n",
       " 'veterans_2019',\n",
       " 'white_2019',\n",
       " 'black_2019',\n",
       " 'hispanic_2019',\n",
       " 'unemployment_rate_2019',\n",
       " 'uninsured_2019',\n",
       " 'density_2010',\n",
       " 'median_individual_income_2019',\n",
       " 'household_has_computer_2019',\n",
       " 'avg_family_size_2019',\n",
       " 'Land Area',\n",
       " 'Male life expectancy (years)',\n",
       " 'Female life expectancy (years)',\n",
       " 'Rank (male)',\n",
       " 'Rank (female)',\n",
       " 'Male life expectancy change 1997 to 2007 (years)',\n",
       " 'Female life expectancy change 1997 to 2007 (years)']"
      ]
     },
     "execution_count": 413,
     "metadata": {},
     "output_type": "execute_result"
    }
   ],
   "source": [
    "features.remove('state')\n",
    "features.remove('fips')\n",
    "features.remove('county')\n",
    "features"
   ]
  },
  {
   "cell_type": "markdown",
   "id": "38723b59",
   "metadata": {},
   "source": [
    "<a id='pca'></a>\n",
    "### 1. PCA\n",
    "\n",
    "[Back to Top](#top)<br>"
   ]
  },
  {
   "cell_type": "code",
   "execution_count": 414,
   "id": "af129fc2",
   "metadata": {},
   "outputs": [],
   "source": [
    "df_secB.rename({\"state\": \"target\"}, axis=\"columns\", inplace=True)"
   ]
  },
  {
   "cell_type": "code",
   "execution_count": 415,
   "id": "d3612498",
   "metadata": {},
   "outputs": [],
   "source": [
    "X = df_secB[features]\n",
    "y = df_secB['target']\n",
    "scaler = StandardScaler()\n",
    "scaler.fit(X)\n",
    "X=scaler.transform(X)  \n",
    "pca = PCA(n_components=2)\n",
    "x_new = pca.fit_transform(X)\n"
   ]
  },
  {
   "cell_type": "code",
   "execution_count": 416,
   "id": "f80bdf4b",
   "metadata": {},
   "outputs": [],
   "source": [
    "PCA_df = pd.DataFrame(data = x_new , columns = ['principal component 1', 'principal component 2'])\n",
    "PCA_df2 = pd.concat([PCA_df, df_secB[['target']]], axis = 1)"
   ]
  },
  {
   "cell_type": "code",
   "execution_count": 417,
   "id": "69ff3d42",
   "metadata": {},
   "outputs": [
    {
     "data": {
      "image/png": "[encoded data removed]",
      "text/plain": [
       "<Figure size 576x576 with 1 Axes>"
      ]
     },
     "metadata": {
      "needs_background": "light"
     },
     "output_type": "display_data"
    }
   ],
   "source": [
    "fig = plt.figure(figsize = (8,8))\n",
    "ax = fig.add_subplot(1,1,1) \n",
    "ax.set_xlabel('PC1', fontsize = 12)\n",
    "ax.set_ylabel('PC2', fontsize = 12)\n",
    "ax.set_title('PCA(2 component)', fontsize = 20)\n",
    "targets = states_list\n",
    "colors = ['r', 'g', 'b' , 'orange']\n",
    "for target, color in zip(targets,colors):\n",
    "    indicesToKeep = PCA_df2['target'] == target\n",
    "    ax.scatter(PCA_df2.loc[indicesToKeep, 'principal component 1']\n",
    "               , PCA_df2.loc[indicesToKeep, 'principal component 2']\n",
    "               , c = color\n",
    "               , s = 50)\n",
    "ax.legend(targets)\n",
    "ax.grid()"
   ]
  },
  {
   "cell_type": "markdown",
   "id": "9c03b7e9",
   "metadata": {},
   "source": [
    " #### As we can see from the graph above - South Dekota and Wyoming are the most similar - <br> since almost all Wyoming points are really close to the ones of South Dekota. and a similarity between Florida and California on smaller scale. <br>\n",
    " #### Here as we can see PC1 has more than PC2:"
   ]
  },
  {
   "cell_type": "code",
   "execution_count": 418,
   "id": "f3b53c27",
   "metadata": {},
   "outputs": [
    {
     "data": {
      "text/plain": [
       "array([0.35075294, 0.19262313])"
      ]
     },
     "execution_count": 418,
     "metadata": {},
     "output_type": "execute_result"
    }
   ],
   "source": [
    "pca.explained_variance_ratio_"
   ]
  },
  {
   "cell_type": "code",
   "execution_count": 419,
   "id": "978fb891",
   "metadata": {},
   "outputs": [
    {
     "name": "stdout",
     "output_type": "stream",
     "text": [
      "[[0.10119645 0.0703805  0.08199023 0.12134066 0.14147002 0.04794276\n",
      "  0.18585449 0.22760818 0.11749066 0.2984251  0.29660549 0.1047822\n",
      "  0.01161719 0.36134957 0.35347024 0.35629757 0.34585462 0.25945085\n",
      "  0.28871566]\n",
      " [0.25697108 0.3566644  0.33637742 0.41152583 0.06068162 0.34167655\n",
      "  0.28459389 0.15900782 0.16228331 0.01800452 0.0558856  0.43199735\n",
      "  0.11789791 0.06615245 0.04463061 0.04009229 0.00968885 0.19779298\n",
      "  0.14161413]]\n"
     ]
    }
   ],
   "source": [
    "print(abs( pca.components_ ))"
   ]
  },
  {
   "cell_type": "markdown",
   "id": "e3b21a14",
   "metadata": {},
   "source": [
    "#### Displaying which features have more influence, we are intrested in the first part (PC1 > PC2):\n",
    "#### the largests ones are features: [14,15,16,17]\n",
    " * 'Male life expectancy (years)' (0.36134957)\n",
    " * 'Female life expectancy (years)' (0.35347024)\n",
    " * 'Rank (male)' (0.35629757)\n",
    " * 'Rank (female)' (0.34585462)"
   ]
  },
  {
   "cell_type": "markdown",
   "id": "4e699282",
   "metadata": {},
   "source": [
    "### We remove eatures and cluster again and we get entirely new result:"
   ]
  },
  {
   "cell_type": "code",
   "execution_count": 420,
   "id": "bfdeab6a",
   "metadata": {},
   "outputs": [],
   "source": [
    "features2 = features.copy()\n",
    "features2.remove('Male life expectancy (years)' )\n",
    "features2.remove('Female life expectancy (years)')\n",
    "features2.remove('Rank (male)' )\n",
    "features2.remove('Rank (female)' )"
   ]
  },
  {
   "cell_type": "code",
   "execution_count": 421,
   "id": "b051e908",
   "metadata": {},
   "outputs": [
    {
     "data": {
      "image/png": "[encoded data removed]",
      "text/plain": [
       "<Figure size 576x576 with 1 Axes>"
      ]
     },
     "metadata": {
      "needs_background": "light"
     },
     "output_type": "display_data"
    }
   ],
   "source": [
    "X = df_secB[features2]\n",
    "y = df_secB['target']\n",
    "scaler = StandardScaler()\n",
    "scaler.fit(X)\n",
    "X=scaler.transform(X)  \n",
    "pca = PCA(n_components=2)\n",
    "x_new = pca.fit_transform(X)\n",
    "PCA_df = pd.DataFrame(data = x_new , columns = ['principal component 1', 'principal component 2'])\n",
    "PCA_df2 = pd.concat([PCA_df, df_secB[['target']]], axis = 1)\n",
    "fig = plt.figure(figsize = (8,8))\n",
    "ax = fig.add_subplot(1,1,1) \n",
    "ax.set_xlabel('PC1', fontsize = 12)\n",
    "ax.set_ylabel('PC2', fontsize = 12)\n",
    "ax.set_title('PCA(2 component)', fontsize = 20)\n",
    "targets = states_list\n",
    "colors = ['r', 'g', 'b' , 'orange']\n",
    "for target, color in zip(targets,colors):\n",
    "    indicesToKeep = PCA_df2['target'] == target\n",
    "    ax.scatter(PCA_df2.loc[indicesToKeep, 'principal component 1']\n",
    "               , PCA_df2.loc[indicesToKeep, 'principal component 2']\n",
    "               , c = color\n",
    "               , s = 50)\n",
    "ax.legend(targets)\n",
    "ax.grid()"
   ]
  },
  {
   "cell_type": "markdown",
   "id": "90b1eb81",
   "metadata": {},
   "source": [
    "#### Displaying which features have  least influence:\n",
    "#### the smallest ones are features: [13,6,2]\n",
    " * 'Land Area' (0.01161719)\n",
    " * 'hispanic_2019' (0.04794276)\n",
    " * 'median_age_2019' (0.0703805)"
   ]
  },
  {
   "cell_type": "code",
   "execution_count": 422,
   "id": "fad740e4",
   "metadata": {},
   "outputs": [],
   "source": [
    "features2 = features.copy()\n",
    "features2.remove('Land Area' )\n",
    "features2.remove('hispanic_2019')\n",
    "features2.remove('median_age_2019' )"
   ]
  },
  {
   "cell_type": "markdown",
   "id": "be5a26a6",
   "metadata": {},
   "source": [
    "### We remove these three features and cluster again and we barely notice any change"
   ]
  },
  {
   "cell_type": "code",
   "execution_count": 423,
   "id": "4527f21e",
   "metadata": {},
   "outputs": [
    {
     "data": {
      "image/png": "[encoded data removed]",
      "text/plain": [
       "<Figure size 576x576 with 1 Axes>"
      ]
     },
     "metadata": {
      "needs_background": "light"
     },
     "output_type": "display_data"
    }
   ],
   "source": [
    "X = df_secB[features2]\n",
    "y = df_secB['target']\n",
    "scaler = StandardScaler()\n",
    "scaler.fit(X)\n",
    "X=scaler.transform(X)  \n",
    "pca = PCA(n_components=2)\n",
    "x_new = pca.fit_transform(X)\n",
    "PCA_df = pd.DataFrame(data = x_new , columns = ['principal component 1', 'principal component 2'])\n",
    "PCA_df2 = pd.concat([PCA_df, df_secB[['target']]], axis = 1)\n",
    "fig = plt.figure(figsize = (8,8))\n",
    "ax = fig.add_subplot(1,1,1) \n",
    "ax.set_xlabel('PC1', fontsize = 12)\n",
    "ax.set_ylabel('PC2', fontsize = 12)\n",
    "ax.set_title('PCA(2 component)', fontsize = 20)\n",
    "targets = states_list\n",
    "colors = ['r', 'g', 'b' , 'orange']\n",
    "for target, color in zip(targets,colors):\n",
    "    indicesToKeep = PCA_df2['target'] == target\n",
    "    ax.scatter(PCA_df2.loc[indicesToKeep, 'principal component 1']\n",
    "               , PCA_df2.loc[indicesToKeep, 'principal component 2']\n",
    "               , c = color\n",
    "               , s = 50)\n",
    "ax.legend(targets)\n",
    "ax.grid()"
   ]
  },
  {
   "cell_type": "markdown",
   "id": "b5da7b9a",
   "metadata": {},
   "source": [
    "<a id='tsne'></a>\n",
    "### 2. TSNE"
   ]
  },
  {
   "cell_type": "markdown",
   "id": "5f166299",
   "metadata": {},
   "source": [
    " [Back to Top](#top)<br>"
   ]
  },
  {
   "cell_type": "code",
   "execution_count": 424,
   "id": "12980015",
   "metadata": {},
   "outputs": [
    {
     "name": "stdout",
     "output_type": "stream",
     "text": [
      "[t-SNE] Computing 91 nearest neighbors...\n",
      "[t-SNE] Indexed 212 samples in 0.000s...\n",
      "[t-SNE] Computed neighbors for 212 samples in 0.003s...\n",
      "[t-SNE] Computed conditional probabilities for sample 212 / 212\n",
      "[t-SNE] Mean sigma: 1783.889360\n",
      "[t-SNE] KL divergence after 250 iterations with early exaggeration: 55.227436\n",
      "[t-SNE] KL divergence after 900 iterations: 0.194240\n"
     ]
    },
    {
     "data": {
      "text/plain": [
       "[Text(0.5, 1.0, 'T-SNE')]"
      ]
     },
     "execution_count": 424,
     "metadata": {},
     "output_type": "execute_result"
    },
    {
     "data": {
      "image/png": "[encoded data removed]",
      "text/plain": [
       "<Figure size 576x576 with 1 Axes>"
      ]
     },
     "metadata": {
      "needs_background": "light"
     },
     "output_type": "display_data"
    }
   ],
   "source": [
    "X = df_secB[features]\n",
    "y = df_secB['target']\n",
    "\n",
    "tsne = TSNE(n_components=2, verbose=1, random_state=123)\n",
    "new_X = tsne.fit_transform(X)\n",
    "tsne_df = pd.DataFrame()\n",
    "tsne_df[\"y\"] = y\n",
    "tsne_df[\"comp-1\"] = new_X[:,0]\n",
    "tsne_df[\"comp-2\"] = new_X[:,1]\n",
    "\n",
    "fig = plt.figure(figsize = (8,8))\n",
    "sns.scatterplot(x=\"comp-1\", y=\"comp-2\", hue=tsne_df.y.tolist(),data=tsne_df).set(title=\"T-SNE\")\n"
   ]
  },
  {
   "cell_type": "markdown",
   "id": "e8beab99",
   "metadata": {},
   "source": [
    "<a id='C'></a>\n",
    "\n",
    "[Back to Top](#top)<br>"
   ]
  },
  {
   "cell_type": "markdown",
   "id": "c194c171",
   "metadata": {},
   "source": [
    "### 1. Voter turnout percentage by state\n",
    "#### * for the year 2010 we have the population size above 18 - and therefore we can estimate the number of eligible voters per state and given the number of voters over all in this dataset we can estimate the voter turnout percentage"
   ]
  },
  {
   "cell_type": "markdown",
   "id": "1ad4d79c",
   "metadata": {},
   "source": [
    "* First we extract the total votes in year 2010 \n",
    "* Then we extract the population size in 2010\n",
    "* Then we extract the percentage of population under 18\n",
    "* Then we calculate number of estimate eligible voters\n",
    "* And lastly we calculate percentage (total votes / eligible voters)"
   ]
  },
  {
   "cell_type": "code",
   "execution_count": 425,
   "id": "1221952a",
   "metadata": {},
   "outputs": [],
   "source": [
    "house_df_c = house_df.copy()\n",
    "house_df_c = house_df_c[house_df_c[\"year\"].isin([2010,2012])]\n",
    "\n",
    "\n",
    "# total number of voters per district in each state\n",
    "grouped_df = house_df_c.groupby([\"state\",\"district\",\"year\"])\n",
    "mean_df = grouped_df['totalvotes'].mean().reset_index()\n",
    "\n",
    "#total number of voters per state\n",
    "grouped_df = mean_df.groupby([\"state\",\"year\"])\n",
    "mean_df = grouped_df['totalvotes'].sum().reset_index()"
   ]
  },
  {
   "cell_type": "code",
   "execution_count": 426,
   "id": "2c7f3a9c",
   "metadata": {},
   "outputs": [],
   "source": [
    "voters_2010_df = county_complete_df_b.copy()\n",
    "voters_2010_df[\"eligible_voters\"] = ((100 - voters_2010_df[\"age_under_18_2010\"])/100) * voters_2010_df[\"pop2010\"]\n",
    "voters_2010_df[\"eligible_voters\"] = voters_2010_df[\"eligible_voters\"].round()\n",
    "\n",
    "#total number of eligible voters in 2010 per state\n",
    "grouped_df2 = voters_2010_df.groupby([\"state\"])\n",
    "mean_df2 = grouped_df2['eligible_voters'].sum().reset_index()\n",
    "mean_df2[\"year\"] = 2010\n"
   ]
  },
  {
   "cell_type": "code",
   "execution_count": 427,
   "id": "426004f6",
   "metadata": {},
   "outputs": [
    {
     "data": {
      "text/html": [
       "<div>\n",
       "<style scoped>\n",
       "    .dataframe tbody tr th:only-of-type {\n",
       "        vertical-align: middle;\n",
       "    }\n",
       "\n",
       "    .dataframe tbody tr th {\n",
       "        vertical-align: top;\n",
       "    }\n",
       "\n",
       "    .dataframe thead th {\n",
       "        text-align: right;\n",
       "    }\n",
       "</style>\n",
       "<table border=\"1\" class=\"dataframe\">\n",
       "  <thead>\n",
       "    <tr style=\"text-align: right;\">\n",
       "      <th></th>\n",
       "      <th>state</th>\n",
       "      <th>year</th>\n",
       "      <th>totalvotes</th>\n",
       "      <th>eligible_voters</th>\n",
       "      <th>turnout</th>\n",
       "    </tr>\n",
       "  </thead>\n",
       "  <tbody>\n",
       "    <tr>\n",
       "      <th>0</th>\n",
       "      <td>ALABAMA</td>\n",
       "      <td>2010</td>\n",
       "      <td>1367747.0</td>\n",
       "      <td>3647016.0</td>\n",
       "      <td>0.375032</td>\n",
       "    </tr>\n",
       "    <tr>\n",
       "      <th>1</th>\n",
       "      <td>ALASKA</td>\n",
       "      <td>2010</td>\n",
       "      <td>254335.0</td>\n",
       "      <td>522762.0</td>\n",
       "      <td>0.486522</td>\n",
       "    </tr>\n",
       "    <tr>\n",
       "      <th>2</th>\n",
       "      <td>ARIZONA</td>\n",
       "      <td>2010</td>\n",
       "      <td>1698145.0</td>\n",
       "      <td>4763138.0</td>\n",
       "      <td>0.356518</td>\n",
       "    </tr>\n",
       "    <tr>\n",
       "      <th>3</th>\n",
       "      <td>ARKANSAS</td>\n",
       "      <td>2010</td>\n",
       "      <td>774125.0</td>\n",
       "      <td>2204348.0</td>\n",
       "      <td>0.351181</td>\n",
       "    </tr>\n",
       "    <tr>\n",
       "      <th>4</th>\n",
       "      <td>CALIFORNIA</td>\n",
       "      <td>2010</td>\n",
       "      <td>9648096.0</td>\n",
       "      <td>27955228.0</td>\n",
       "      <td>0.345127</td>\n",
       "    </tr>\n",
       "  </tbody>\n",
       "</table>\n",
       "</div>"
      ],
      "text/plain": [
       "        state  year  totalvotes  eligible_voters   turnout\n",
       "0     ALABAMA  2010   1367747.0        3647016.0  0.375032\n",
       "1      ALASKA  2010    254335.0         522762.0  0.486522\n",
       "2     ARIZONA  2010   1698145.0        4763138.0  0.356518\n",
       "3    ARKANSAS  2010    774125.0        2204348.0  0.351181\n",
       "4  CALIFORNIA  2010   9648096.0       27955228.0  0.345127"
      ]
     },
     "execution_count": 427,
     "metadata": {},
     "output_type": "execute_result"
    }
   ],
   "source": [
    "turnout_2010 = mean_df.merge(mean_df2, on=['state' , 'year']) \n",
    "turnout_2010['turnout'] = turnout_2010['totalvotes'] / turnout_2010['eligible_voters']\n",
    "turnout_2010.head()"
   ]
  },
  {
   "cell_type": "markdown",
   "id": "c3ba807c",
   "metadata": {},
   "source": [
    "#### * for the year 2012 - we have no information about the population age - instead we can estimate the number of eligible voters based on the percentage of eligible voters in year 2010 (the closest year to 2012)"
   ]
  },
  {
   "cell_type": "markdown",
   "id": "7246da5a",
   "metadata": {},
   "source": [
    "* First we extract the total votes in year 2012\n",
    "* Then we extract the population size in 2012\n",
    "* Then we extract the percentage of population under 18 (from the closest year - 2010)\n",
    "* Then we calculate number of estimate eligible voters\n",
    "* And lastly we calculate percentage (total votes / eligible voters)"
   ]
  },
  {
   "cell_type": "code",
   "execution_count": 428,
   "id": "5676c724",
   "metadata": {},
   "outputs": [],
   "source": [
    "voters_2012_df = county_complete_df_b.copy()\n",
    "voters_2012_df[\"eligible_voters\"] = ((100 - voters_2012_df[\"age_under_18_2010\"])/100) * voters_2012_df[\"pop2012\"]\n",
    "voters_2012_df[\"eligible_voters\"] = voters_2012_df[\"eligible_voters\"].round()\n",
    "\n",
    "#total number of eligible voters in 2012 per state\n",
    "grouped_df3 = voters_2012_df.groupby([\"state\"])\n",
    "mean_df3 = grouped_df3['eligible_voters'].sum().reset_index()\n",
    "mean_df3[\"year\"] = 2012"
   ]
  },
  {
   "cell_type": "code",
   "execution_count": 429,
   "id": "81e9d60d",
   "metadata": {},
   "outputs": [
    {
     "data": {
      "text/html": [
       "<div>\n",
       "<style scoped>\n",
       "    .dataframe tbody tr th:only-of-type {\n",
       "        vertical-align: middle;\n",
       "    }\n",
       "\n",
       "    .dataframe tbody tr th {\n",
       "        vertical-align: top;\n",
       "    }\n",
       "\n",
       "    .dataframe thead th {\n",
       "        text-align: right;\n",
       "    }\n",
       "</style>\n",
       "<table border=\"1\" class=\"dataframe\">\n",
       "  <thead>\n",
       "    <tr style=\"text-align: right;\">\n",
       "      <th></th>\n",
       "      <th>state</th>\n",
       "      <th>year</th>\n",
       "      <th>totalvotes</th>\n",
       "      <th>eligible_voters</th>\n",
       "      <th>turnout</th>\n",
       "    </tr>\n",
       "  </thead>\n",
       "  <tbody>\n",
       "    <tr>\n",
       "      <th>0</th>\n",
       "      <td>ALABAMA</td>\n",
       "      <td>2012</td>\n",
       "      <td>1933630.0</td>\n",
       "      <td>3673065.0</td>\n",
       "      <td>0.526435</td>\n",
       "    </tr>\n",
       "    <tr>\n",
       "      <th>1</th>\n",
       "      <td>ALASKA</td>\n",
       "      <td>2012</td>\n",
       "      <td>289804.0</td>\n",
       "      <td>533356.0</td>\n",
       "      <td>0.543359</td>\n",
       "    </tr>\n",
       "    <tr>\n",
       "      <th>2</th>\n",
       "      <td>ARIZONA</td>\n",
       "      <td>2012</td>\n",
       "      <td>2173317.0</td>\n",
       "      <td>4875649.0</td>\n",
       "      <td>0.445749</td>\n",
       "    </tr>\n",
       "    <tr>\n",
       "      <th>3</th>\n",
       "      <td>ARKANSAS</td>\n",
       "      <td>2012</td>\n",
       "      <td>1038054.0</td>\n",
       "      <td>2228904.0</td>\n",
       "      <td>0.465724</td>\n",
       "    </tr>\n",
       "    <tr>\n",
       "      <th>4</th>\n",
       "      <td>CALIFORNIA</td>\n",
       "      <td>2012</td>\n",
       "      <td>12204357.0</td>\n",
       "      <td>28529024.0</td>\n",
       "      <td>0.427787</td>\n",
       "    </tr>\n",
       "  </tbody>\n",
       "</table>\n",
       "</div>"
      ],
      "text/plain": [
       "        state  year  totalvotes  eligible_voters   turnout\n",
       "0     ALABAMA  2012   1933630.0        3673065.0  0.526435\n",
       "1      ALASKA  2012    289804.0         533356.0  0.543359\n",
       "2     ARIZONA  2012   2173317.0        4875649.0  0.445749\n",
       "3    ARKANSAS  2012   1038054.0        2228904.0  0.465724\n",
       "4  CALIFORNIA  2012  12204357.0       28529024.0  0.427787"
      ]
     },
     "execution_count": 429,
     "metadata": {},
     "output_type": "execute_result"
    }
   ],
   "source": [
    "turnout_2012 = mean_df.merge(mean_df3, on=['state' , 'year']) \n",
    "turnout_2012['turnout'] = turnout_2012['totalvotes'] / turnout_2012['eligible_voters']\n",
    "turnout_2012.head()"
   ]
  },
  {
   "cell_type": "markdown",
   "id": "7e3b2a00",
   "metadata": {},
   "source": [
    "<a id='c2'></a>\n",
    "### 2. features to predict voter turnout\n",
    "\n",
    "#### total votes:\n",
    "for 2010:\n",
    "total votes of previous years until 2002 , we calculate how much votes we have for each state in every cycle starting from 2002 until 2008\n",
    "\n",
    "for 2012:\n",
    "total votes of previous years until 2004, same but starting from 2004\n",
    "\n",
    "[Back to Top](#top)<br>"
   ]
  },
  {
   "cell_type": "code",
   "execution_count": 430,
   "id": "b20ba7b7",
   "metadata": {},
   "outputs": [],
   "source": [
    "house_df_c = house_df.copy()\n",
    "house_df_c = house_df_c[house_df_c[\"year\"].isin([2002,2004,2006,2008,2010])]\n",
    "# total number of voters per district in each state\n",
    "grouped_df = house_df_c.groupby([\"state\",\"district\",\"year\"])\n",
    "mean_df = grouped_df['totalvotes'].mean().reset_index()\n",
    "\n",
    "#total number of voters per state\n",
    "grouped_df = mean_df.groupby([\"state\",\"year\"])\n",
    "mean_df = grouped_df['totalvotes'].sum().reset_index()\n",
    "\n",
    "temp_mean_df = mean_df.set_index(['state', 'year'])['totalvotes'].unstack().reset_index()\n",
    "years_df_2010 = temp_mean_df.copy()\n",
    "years_df_2010.drop([2010], axis=1, inplace=True)\n",
    "years_df_2012 = temp_mean_df.copy()\n",
    "years_df_2012.drop([2002], axis=1, inplace=True)\n",
    "\n",
    "turnout_2012= years_df_2012.merge(turnout_2012, on=['state'])\n",
    "turnout_2010= years_df_2010.merge(turnout_2010, on=['state']) "
   ]
  },
  {
   "cell_type": "code",
   "execution_count": 431,
   "id": "bffc248b",
   "metadata": {},
   "outputs": [
    {
     "data": {
      "text/html": [
       "<div>\n",
       "<style scoped>\n",
       "    .dataframe tbody tr th:only-of-type {\n",
       "        vertical-align: middle;\n",
       "    }\n",
       "\n",
       "    .dataframe tbody tr th {\n",
       "        vertical-align: top;\n",
       "    }\n",
       "\n",
       "    .dataframe thead th {\n",
       "        text-align: right;\n",
       "    }\n",
       "</style>\n",
       "<table border=\"1\" class=\"dataframe\">\n",
       "  <thead>\n",
       "    <tr style=\"text-align: right;\">\n",
       "      <th></th>\n",
       "      <th>state</th>\n",
       "      <th>2004</th>\n",
       "      <th>2006</th>\n",
       "      <th>2008</th>\n",
       "      <th>2010</th>\n",
       "      <th>year</th>\n",
       "      <th>totalvotes</th>\n",
       "      <th>eligible_voters</th>\n",
       "      <th>turnout</th>\n",
       "    </tr>\n",
       "  </thead>\n",
       "  <tbody>\n",
       "    <tr>\n",
       "      <th>33</th>\n",
       "      <td>NORTH DAKOTA</td>\n",
       "      <td>310814.0</td>\n",
       "      <td>217621.0</td>\n",
       "      <td>313965.0</td>\n",
       "      <td>236344.0</td>\n",
       "      <td>2012</td>\n",
       "      <td>316224.0</td>\n",
       "      <td>544868.0</td>\n",
       "      <td>0.580368</td>\n",
       "    </tr>\n",
       "    <tr>\n",
       "      <th>16</th>\n",
       "      <td>KENTUCKY</td>\n",
       "      <td>1635243.0</td>\n",
       "      <td>1253526.0</td>\n",
       "      <td>1749840.0</td>\n",
       "      <td>1354298.0</td>\n",
       "      <td>2012</td>\n",
       "      <td>1745377.0</td>\n",
       "      <td>3349288.0</td>\n",
       "      <td>0.521119</td>\n",
       "    </tr>\n",
       "    <tr>\n",
       "      <th>49</th>\n",
       "      <td>WYOMING</td>\n",
       "      <td>239163.0</td>\n",
       "      <td>196215.0</td>\n",
       "      <td>249575.0</td>\n",
       "      <td>190822.0</td>\n",
       "      <td>2012</td>\n",
       "      <td>250700.0</td>\n",
       "      <td>438107.0</td>\n",
       "      <td>0.572235</td>\n",
       "    </tr>\n",
       "  </tbody>\n",
       "</table>\n",
       "</div>"
      ],
      "text/plain": [
       "           state       2004       2006       2008       2010  year  \\\n",
       "33  NORTH DAKOTA   310814.0   217621.0   313965.0   236344.0  2012   \n",
       "16      KENTUCKY  1635243.0  1253526.0  1749840.0  1354298.0  2012   \n",
       "49       WYOMING   239163.0   196215.0   249575.0   190822.0  2012   \n",
       "\n",
       "    totalvotes  eligible_voters   turnout  \n",
       "33    316224.0         544868.0  0.580368  \n",
       "16   1745377.0        3349288.0  0.521119  \n",
       "49    250700.0         438107.0  0.572235  "
      ]
     },
     "execution_count": 431,
     "metadata": {},
     "output_type": "execute_result"
    }
   ],
   "source": [
    "turnout_2012.sample(3)"
   ]
  },
  {
   "cell_type": "code",
   "execution_count": 432,
   "id": "77b78201",
   "metadata": {
    "scrolled": true
   },
   "outputs": [
    {
     "data": {
      "text/html": [
       "<div>\n",
       "<style scoped>\n",
       "    .dataframe tbody tr th:only-of-type {\n",
       "        vertical-align: middle;\n",
       "    }\n",
       "\n",
       "    .dataframe tbody tr th {\n",
       "        vertical-align: top;\n",
       "    }\n",
       "\n",
       "    .dataframe thead th {\n",
       "        text-align: right;\n",
       "    }\n",
       "</style>\n",
       "<table border=\"1\" class=\"dataframe\">\n",
       "  <thead>\n",
       "    <tr style=\"text-align: right;\">\n",
       "      <th></th>\n",
       "      <th>state</th>\n",
       "      <th>2002</th>\n",
       "      <th>2004</th>\n",
       "      <th>2006</th>\n",
       "      <th>2008</th>\n",
       "      <th>year</th>\n",
       "      <th>totalvotes</th>\n",
       "      <th>eligible_voters</th>\n",
       "      <th>turnout</th>\n",
       "    </tr>\n",
       "  </thead>\n",
       "  <tbody>\n",
       "    <tr>\n",
       "      <th>41</th>\n",
       "      <td>TENNESSEE</td>\n",
       "      <td>1529390.0</td>\n",
       "      <td>2218738.0</td>\n",
       "      <td>1715426.0</td>\n",
       "      <td>2301885.0</td>\n",
       "      <td>2010</td>\n",
       "      <td>1559129.0</td>\n",
       "      <td>4849210.0</td>\n",
       "      <td>0.321522</td>\n",
       "    </tr>\n",
       "    <tr>\n",
       "      <th>48</th>\n",
       "      <td>WISCONSIN</td>\n",
       "      <td>1637546.0</td>\n",
       "      <td>2820613.0</td>\n",
       "      <td>2063413.0</td>\n",
       "      <td>2775174.0</td>\n",
       "      <td>2010</td>\n",
       "      <td>2140482.0</td>\n",
       "      <td>4348283.0</td>\n",
       "      <td>0.492259</td>\n",
       "    </tr>\n",
       "    <tr>\n",
       "      <th>46</th>\n",
       "      <td>WASHINGTON</td>\n",
       "      <td>1739116.0</td>\n",
       "      <td>2729995.0</td>\n",
       "      <td>2054056.0</td>\n",
       "      <td>2914463.0</td>\n",
       "      <td>2010</td>\n",
       "      <td>2479409.0</td>\n",
       "      <td>5143923.0</td>\n",
       "      <td>0.482007</td>\n",
       "    </tr>\n",
       "  </tbody>\n",
       "</table>\n",
       "</div>"
      ],
      "text/plain": [
       "         state       2002       2004       2006       2008  year  totalvotes  \\\n",
       "41   TENNESSEE  1529390.0  2218738.0  1715426.0  2301885.0  2010   1559129.0   \n",
       "48   WISCONSIN  1637546.0  2820613.0  2063413.0  2775174.0  2010   2140482.0   \n",
       "46  WASHINGTON  1739116.0  2729995.0  2054056.0  2914463.0  2010   2479409.0   \n",
       "\n",
       "    eligible_voters   turnout  \n",
       "41        4849210.0  0.321522  \n",
       "48        4348283.0  0.492259  \n",
       "46        5143923.0  0.482007  "
      ]
     },
     "execution_count": 432,
     "metadata": {},
     "output_type": "execute_result"
    }
   ],
   "source": [
    "turnout_2010.sample(3)"
   ]
  },
  {
   "cell_type": "markdown",
   "id": "7545adc6",
   "metadata": {},
   "source": [
    "#### land, water area\n",
    "summing up water and land area per state"
   ]
  },
  {
   "cell_type": "code",
   "execution_count": 433,
   "id": "ced3bb13",
   "metadata": {},
   "outputs": [],
   "source": [
    "grouped_df = water_area_df.groupby([\"State\"])\n",
    "water_df = grouped_df['Water Area'].sum().reset_index()\n",
    "\n",
    "grouped_df = land_area_df.groupby([\"State\"])\n",
    "land_df = grouped_df['Land Area'].sum().reset_index()\n",
    "\n",
    "area_perc_df = land_df.merge(water_df, on=['State'],how='outer') \n",
    "area_perc_df.rename({\"State\": \"state\"}, axis=\"columns\", inplace=True)\n",
    "\n",
    "area_perc_df[\"state\"] = area_perc_df['state'].astype(str).str.upper()"
   ]
  },
  {
   "cell_type": "code",
   "execution_count": 434,
   "id": "cf50b501",
   "metadata": {},
   "outputs": [],
   "source": [
    "turnout_2012= turnout_2012.merge(area_perc_df, on=['state'])\n",
    "turnout_2010= turnout_2010.merge(area_perc_df, on=['state']) "
   ]
  },
  {
   "cell_type": "code",
   "execution_count": 435,
   "id": "2368e282",
   "metadata": {},
   "outputs": [
    {
     "data": {
      "text/html": [
       "<div>\n",
       "<style scoped>\n",
       "    .dataframe tbody tr th:only-of-type {\n",
       "        vertical-align: middle;\n",
       "    }\n",
       "\n",
       "    .dataframe tbody tr th {\n",
       "        vertical-align: top;\n",
       "    }\n",
       "\n",
       "    .dataframe thead th {\n",
       "        text-align: right;\n",
       "    }\n",
       "</style>\n",
       "<table border=\"1\" class=\"dataframe\">\n",
       "  <thead>\n",
       "    <tr style=\"text-align: right;\">\n",
       "      <th></th>\n",
       "      <th>state</th>\n",
       "      <th>2004</th>\n",
       "      <th>2006</th>\n",
       "      <th>2008</th>\n",
       "      <th>2010</th>\n",
       "      <th>year</th>\n",
       "      <th>totalvotes</th>\n",
       "      <th>eligible_voters</th>\n",
       "      <th>turnout</th>\n",
       "      <th>Land Area</th>\n",
       "      <th>Water Area</th>\n",
       "    </tr>\n",
       "  </thead>\n",
       "  <tbody>\n",
       "    <tr>\n",
       "      <th>24</th>\n",
       "      <td>NEBRASKA</td>\n",
       "      <td>764972.0</td>\n",
       "      <td>596087.0</td>\n",
       "      <td>775398.0</td>\n",
       "      <td>485546.0</td>\n",
       "      <td>2012</td>\n",
       "      <td>772515.0</td>\n",
       "      <td>1387840.0</td>\n",
       "      <td>0.556631</td>\n",
       "      <td>199113.1</td>\n",
       "      <td>1226.6</td>\n",
       "    </tr>\n",
       "    <tr>\n",
       "      <th>45</th>\n",
       "      <td>WEST VIRGINIA</td>\n",
       "      <td>721656.0</td>\n",
       "      <td>454813.0</td>\n",
       "      <td>645560.0</td>\n",
       "      <td>514373.0</td>\n",
       "      <td>2012</td>\n",
       "      <td>641354.0</td>\n",
       "      <td>1467475.0</td>\n",
       "      <td>0.437046</td>\n",
       "      <td>62384.2</td>\n",
       "      <td>144.4</td>\n",
       "    </tr>\n",
       "    <tr>\n",
       "      <th>46</th>\n",
       "      <td>WISCONSIN</td>\n",
       "      <td>2820613.0</td>\n",
       "      <td>2063413.0</td>\n",
       "      <td>2775174.0</td>\n",
       "      <td>2140482.0</td>\n",
       "      <td>2012</td>\n",
       "      <td>2866050.0</td>\n",
       "      <td>4374270.0</td>\n",
       "      <td>0.655206</td>\n",
       "      <td>140672.6</td>\n",
       "      <td>18336.4</td>\n",
       "    </tr>\n",
       "  </tbody>\n",
       "</table>\n",
       "</div>"
      ],
      "text/plain": [
       "            state       2004       2006       2008       2010  year  \\\n",
       "24       NEBRASKA   764972.0   596087.0   775398.0   485546.0  2012   \n",
       "45  WEST VIRGINIA   721656.0   454813.0   645560.0   514373.0  2012   \n",
       "46      WISCONSIN  2820613.0  2063413.0  2775174.0  2140482.0  2012   \n",
       "\n",
       "    totalvotes  eligible_voters   turnout  Land Area  Water Area  \n",
       "24    772515.0        1387840.0  0.556631   199113.1      1226.6  \n",
       "45    641354.0        1467475.0  0.437046    62384.2       144.4  \n",
       "46   2866050.0        4374270.0  0.655206   140672.6     18336.4  "
      ]
     },
     "execution_count": 435,
     "metadata": {},
     "output_type": "execute_result"
    }
   ],
   "source": [
    "turnout_2012.sample(3)"
   ]
  },
  {
   "cell_type": "markdown",
   "id": "bb3eba92",
   "metadata": {},
   "source": [
    "#### population , unemployement, highschool degree, bashelors degree\n",
    "for 2010:\n",
    "* unempl_2010: unemployment rate per state - this could have an influence over the turnout percentage according to statistics\n",
    "\n",
    "for 2012:\n",
    "* unempl_2012\n",
    "\n",
    "for both years:\n",
    "* bachelors_2010: percentage of people with a bachelors degree,academic status can have an influence on voting\n",
    "\n",
    "for both years:\n",
    "* hsgrad_2010: percentage of people who completed highschool, education  can have an influence on voting\n",
    "\n",
    "using the county dataset we will extract rate of the feature we want and multiply by population then groupby and sum out the number of unemployed people that year."
   ]
  },
  {
   "cell_type": "code",
   "execution_count": 436,
   "id": "6f09ba0e",
   "metadata": {},
   "outputs": [],
   "source": [
    "county_c = county_complete_df_b.copy()\n",
    "county_c = county_c [['state' , 'fips' , 'pop2010' , 'pop2012' , 'hs_grad_2010'\n",
    "                      , 'unemployment_rate_2010' , 'unemployment_rate_2012' , 'bachelors_2010' ]]"
   ]
  },
  {
   "cell_type": "code",
   "execution_count": 437,
   "id": "83067754",
   "metadata": {},
   "outputs": [],
   "source": [
    "county_c['unempl_2010'] = (county_c['unemployment_rate_2010'] * county_c['pop2010'])//100\n",
    "county_c['unempl_2012'] = (county_c['unemployment_rate_2010'] * county_c['pop2012'])//100\n",
    "county_c['bs2010'] = (county_c['bachelors_2010'] * county_c['pop2010'])//100\n",
    "county_c['bs2012'] = (county_c['bachelors_2010'] * county_c['pop2012'])//100\n",
    "county_c['hs2010'] = (county_c['hs_grad_2010'] * county_c['pop2010'])//100\n",
    "county_c['hs2012'] = (county_c['hs_grad_2010'] * county_c['pop2012'])//100\n"
   ]
  },
  {
   "cell_type": "code",
   "execution_count": 438,
   "id": "fc39ed28",
   "metadata": {},
   "outputs": [],
   "source": [
    "sectionC_df = county_c.groupby([\"state\"]).agg({'pop2010':['sum'],'pop2012': ['sum'], 'unempl_2010': ['sum'], 'unempl_2012': ['sum'],\n",
    "                    'bs2010': ['sum'], 'bs2012': ['sum'], 'hs2010': ['sum'], 'hs2012': ['sum']}).reset_index()"
   ]
  },
  {
   "cell_type": "code",
   "execution_count": 439,
   "id": "1826c30c",
   "metadata": {},
   "outputs": [],
   "source": [
    "sectionC_df['unempl_2010'] = sectionC_df[('unempl_2010','sum')] / sectionC_df[('pop2010','sum')]\n",
    "sectionC_df['unempl_2012'] = sectionC_df[('unempl_2012','sum')] / sectionC_df[('pop2012','sum')]\n",
    "sectionC_df['bs2010'] = sectionC_df[('bs2010','sum')] / sectionC_df[('pop2010','sum')]\n",
    "sectionC_df['bs2012'] = sectionC_df[('bs2012','sum')] / sectionC_df[('pop2012','sum')]\n",
    "sectionC_df['hs2010'] = sectionC_df[('hs2010','sum')] / sectionC_df[('pop2010','sum')]\n",
    "sectionC_df['hs2012'] = sectionC_df[('hs2012','sum')] / sectionC_df[('pop2012','sum')]"
   ]
  },
  {
   "cell_type": "code",
   "execution_count": 440,
   "id": "cb9167bb",
   "metadata": {},
   "outputs": [],
   "source": [
    "sectionC_df.columns.names = [1,2]\n",
    "sectionC_df.columns = sectionC_df.columns.droplevel(2)"
   ]
  },
  {
   "cell_type": "code",
   "execution_count": 441,
   "id": "08fe1e30",
   "metadata": {},
   "outputs": [],
   "source": [
    "temp_2010 = sectionC_df.copy()\n",
    "temp_2012 = sectionC_df.copy()\n",
    "temp_2010.drop(['pop2012','unempl_2012','bs2012','hs2012'], axis=1, inplace=True)\n",
    "temp_2012.drop(['pop2010','unempl_2010','bs2010','hs2010'], axis=1, inplace=True)"
   ]
  },
  {
   "cell_type": "code",
   "execution_count": 442,
   "id": "6d5ebadd",
   "metadata": {},
   "outputs": [],
   "source": [
    "turnout_2012= turnout_2012.merge(temp_2012, on=['state'])\n",
    "turnout_2010= turnout_2010.merge(temp_2010, on=['state']) "
   ]
  },
  {
   "cell_type": "code",
   "execution_count": 443,
   "id": "39e4db80",
   "metadata": {},
   "outputs": [
    {
     "data": {
      "text/html": [
       "<div>\n",
       "<style scoped>\n",
       "    .dataframe tbody tr th:only-of-type {\n",
       "        vertical-align: middle;\n",
       "    }\n",
       "\n",
       "    .dataframe tbody tr th {\n",
       "        vertical-align: top;\n",
       "    }\n",
       "\n",
       "    .dataframe thead th {\n",
       "        text-align: right;\n",
       "    }\n",
       "</style>\n",
       "<table border=\"1\" class=\"dataframe\">\n",
       "  <thead>\n",
       "    <tr style=\"text-align: right;\">\n",
       "      <th></th>\n",
       "      <th>state</th>\n",
       "      <th>2004</th>\n",
       "      <th>2006</th>\n",
       "      <th>2008</th>\n",
       "      <th>2010</th>\n",
       "      <th>year</th>\n",
       "      <th>totalvotes</th>\n",
       "      <th>eligible_voters</th>\n",
       "      <th>turnout</th>\n",
       "      <th>Land Area</th>\n",
       "      <th>Water Area</th>\n",
       "      <th>pop2012</th>\n",
       "      <th>unempl_2012</th>\n",
       "      <th>bs2012</th>\n",
       "      <th>hs2012</th>\n",
       "    </tr>\n",
       "  </thead>\n",
       "  <tbody>\n",
       "    <tr>\n",
       "      <th>39</th>\n",
       "      <td>TENNESSEE</td>\n",
       "      <td>2218738.0</td>\n",
       "      <td>1715426.0</td>\n",
       "      <td>2301885.0</td>\n",
       "      <td>1559129.0</td>\n",
       "      <td>2012</td>\n",
       "      <td>2283727.0</td>\n",
       "      <td>4927940.0</td>\n",
       "      <td>0.463424</td>\n",
       "      <td>106758.7</td>\n",
       "      <td>2187.7</td>\n",
       "      <td>6450632.0</td>\n",
       "      <td>0.097445</td>\n",
       "      <td>0.230642</td>\n",
       "      <td>0.827542</td>\n",
       "    </tr>\n",
       "    <tr>\n",
       "      <th>31</th>\n",
       "      <td>NORTH DAKOTA</td>\n",
       "      <td>310814.0</td>\n",
       "      <td>217621.0</td>\n",
       "      <td>313965.0</td>\n",
       "      <td>236344.0</td>\n",
       "      <td>2012</td>\n",
       "      <td>316224.0</td>\n",
       "      <td>544868.0</td>\n",
       "      <td>0.580368</td>\n",
       "      <td>178694.9</td>\n",
       "      <td>1269.1</td>\n",
       "      <td>701380.0</td>\n",
       "      <td>0.038277</td>\n",
       "      <td>0.267940</td>\n",
       "      <td>0.897010</td>\n",
       "    </tr>\n",
       "    <tr>\n",
       "      <th>13</th>\n",
       "      <td>KANSAS</td>\n",
       "      <td>1156383.0</td>\n",
       "      <td>845127.0</td>\n",
       "      <td>1208302.0</td>\n",
       "      <td>835529.0</td>\n",
       "      <td>2012</td>\n",
       "      <td>1057739.0</td>\n",
       "      <td>2150212.0</td>\n",
       "      <td>0.491923</td>\n",
       "      <td>211921.6</td>\n",
       "      <td>1188.0</td>\n",
       "      <td>2885316.0</td>\n",
       "      <td>0.071257</td>\n",
       "      <td>0.297050</td>\n",
       "      <td>0.891883</td>\n",
       "    </tr>\n",
       "  </tbody>\n",
       "</table>\n",
       "</div>"
      ],
      "text/plain": [
       "           state       2004       2006       2008       2010  year  \\\n",
       "39     TENNESSEE  2218738.0  1715426.0  2301885.0  1559129.0  2012   \n",
       "31  NORTH DAKOTA   310814.0   217621.0   313965.0   236344.0  2012   \n",
       "13        KANSAS  1156383.0   845127.0  1208302.0   835529.0  2012   \n",
       "\n",
       "    totalvotes  eligible_voters   turnout  Land Area  Water Area    pop2012  \\\n",
       "39   2283727.0        4927940.0  0.463424   106758.7      2187.7  6450632.0   \n",
       "31    316224.0         544868.0  0.580368   178694.9      1269.1   701380.0   \n",
       "13   1057739.0        2150212.0  0.491923   211921.6      1188.0  2885316.0   \n",
       "\n",
       "    unempl_2012    bs2012    hs2012  \n",
       "39     0.097445  0.230642  0.827542  \n",
       "31     0.038277  0.267940  0.897010  \n",
       "13     0.071257  0.297050  0.891883  "
      ]
     },
     "execution_count": 443,
     "metadata": {},
     "output_type": "execute_result"
    }
   ],
   "source": [
    "turnout_2012.sample(3)"
   ]
  },
  {
   "cell_type": "code",
   "execution_count": 444,
   "id": "b8d336b9",
   "metadata": {},
   "outputs": [
    {
     "data": {
      "text/html": [
       "<div>\n",
       "<style scoped>\n",
       "    .dataframe tbody tr th:only-of-type {\n",
       "        vertical-align: middle;\n",
       "    }\n",
       "\n",
       "    .dataframe tbody tr th {\n",
       "        vertical-align: top;\n",
       "    }\n",
       "\n",
       "    .dataframe thead th {\n",
       "        text-align: right;\n",
       "    }\n",
       "</style>\n",
       "<table border=\"1\" class=\"dataframe\">\n",
       "  <thead>\n",
       "    <tr style=\"text-align: right;\">\n",
       "      <th></th>\n",
       "      <th>state</th>\n",
       "      <th>2002</th>\n",
       "      <th>2004</th>\n",
       "      <th>2006</th>\n",
       "      <th>2008</th>\n",
       "      <th>year</th>\n",
       "      <th>totalvotes</th>\n",
       "      <th>eligible_voters</th>\n",
       "      <th>turnout</th>\n",
       "      <th>Land Area</th>\n",
       "      <th>Water Area</th>\n",
       "      <th>pop2010</th>\n",
       "      <th>unempl_2010</th>\n",
       "      <th>bs2010</th>\n",
       "      <th>hs2010</th>\n",
       "    </tr>\n",
       "  </thead>\n",
       "  <tbody>\n",
       "    <tr>\n",
       "      <th>18</th>\n",
       "      <td>MASSACHUSETTS</td>\n",
       "      <td>2220326.0</td>\n",
       "      <td>2927455.0</td>\n",
       "      <td>2243835.0</td>\n",
       "      <td>3102995.0</td>\n",
       "      <td>2010</td>\n",
       "      <td>2224255.0</td>\n",
       "      <td>5129177.0</td>\n",
       "      <td>0.433648</td>\n",
       "      <td>20300.5</td>\n",
       "      <td>95.0</td>\n",
       "      <td>6547629</td>\n",
       "      <td>0.083477</td>\n",
       "      <td>0.382263</td>\n",
       "      <td>0.886176</td>\n",
       "    </tr>\n",
       "    <tr>\n",
       "      <th>41</th>\n",
       "      <td>UTAH</td>\n",
       "      <td>557153.0</td>\n",
       "      <td>908857.0</td>\n",
       "      <td>569690.0</td>\n",
       "      <td>936839.0</td>\n",
       "      <td>2010</td>\n",
       "      <td>640495.0</td>\n",
       "      <td>1893024.0</td>\n",
       "      <td>0.338345</td>\n",
       "      <td>212815.3</td>\n",
       "      <td>7086.2</td>\n",
       "      <td>2763885</td>\n",
       "      <td>0.078665</td>\n",
       "      <td>0.296543</td>\n",
       "      <td>0.907595</td>\n",
       "    </tr>\n",
       "    <tr>\n",
       "      <th>21</th>\n",
       "      <td>MISSISSIPPI</td>\n",
       "      <td>677636.0</td>\n",
       "      <td>1116203.0</td>\n",
       "      <td>600697.0</td>\n",
       "      <td>1264747.0</td>\n",
       "      <td>2010</td>\n",
       "      <td>788549.0</td>\n",
       "      <td>2211792.0</td>\n",
       "      <td>0.356520</td>\n",
       "      <td>121506.7</td>\n",
       "      <td>1284.4</td>\n",
       "      <td>2967297</td>\n",
       "      <td>0.105696</td>\n",
       "      <td>0.197061</td>\n",
       "      <td>0.797390</td>\n",
       "    </tr>\n",
       "  </tbody>\n",
       "</table>\n",
       "</div>"
      ],
      "text/plain": [
       "            state       2002       2004       2006       2008  year  \\\n",
       "18  MASSACHUSETTS  2220326.0  2927455.0  2243835.0  3102995.0  2010   \n",
       "41           UTAH   557153.0   908857.0   569690.0   936839.0  2010   \n",
       "21    MISSISSIPPI   677636.0  1116203.0   600697.0  1264747.0  2010   \n",
       "\n",
       "    totalvotes  eligible_voters   turnout  Land Area  Water Area  pop2010  \\\n",
       "18   2224255.0        5129177.0  0.433648    20300.5        95.0  6547629   \n",
       "41    640495.0        1893024.0  0.338345   212815.3      7086.2  2763885   \n",
       "21    788549.0        2211792.0  0.356520   121506.7      1284.4  2967297   \n",
       "\n",
       "    unempl_2010    bs2010    hs2010  \n",
       "18     0.083477  0.382263  0.886176  \n",
       "41     0.078665  0.296543  0.907595  \n",
       "21     0.105696  0.197061  0.797390  "
      ]
     },
     "execution_count": 444,
     "metadata": {},
     "output_type": "execute_result"
    }
   ],
   "source": [
    "turnout_2010.sample(3)"
   ]
  },
  {
   "cell_type": "markdown",
   "id": "7c7f5133",
   "metadata": {},
   "source": [
    "<a id='c3'></a>\n",
    "\n",
    "### 3. Predicting Turnout\n",
    "\n",
    "[Back to Top](#top)<br>"
   ]
  },
  {
   "cell_type": "code",
   "execution_count": 445,
   "id": "14521bad",
   "metadata": {},
   "outputs": [],
   "source": [
    "features_2012 = list(turnout_2012.columns)\n",
    "features_2012.remove('state')\n",
    "features_2012.remove('turnout')\n",
    "turnout_2012.rename({\"turnout\": \"target\"}, axis=\"columns\", inplace=True)"
   ]
  },
  {
   "cell_type": "code",
   "execution_count": 446,
   "id": "ba7ef803",
   "metadata": {},
   "outputs": [],
   "source": [
    "features_2010 = list(turnout_2010.columns)\n",
    "features_2010.remove('state')\n",
    "features_2010.remove('turnout')\n",
    "turnout_2010.rename({\"turnout\": \"target\"}, axis=\"columns\", inplace=True)"
   ]
  },
  {
   "cell_type": "code",
   "execution_count": 447,
   "id": "ee92b569",
   "metadata": {},
   "outputs": [],
   "source": [
    "X_train, X_test, y_train, y_test = train_test_split(turnout_2012[features_2012], turnout_2012['target'], test_size=0.1)\n",
    "X2_train, X2_test, y2_train, y2_test = train_test_split(turnout_2010[features_2010], turnout_2010['target'], test_size=0.1)"
   ]
  },
  {
   "cell_type": "code",
   "execution_count": 448,
   "id": "d69624a6",
   "metadata": {},
   "outputs": [],
   "source": [
    "def regression_results(y_true, y_pred):\n",
    "    explained_variance=metrics.explained_variance_score(y_true, y_pred)\n",
    "    mean_absolute_error=metrics.mean_absolute_error(y_true, y_pred) \n",
    "    mse=metrics.mean_squared_error(y_true, y_pred) \n",
    "    mean_squared_log_error=metrics.mean_squared_log_error(y_true, y_pred)\n",
    "    median_absolute_error=metrics.median_absolute_error(y_true, y_pred)\n",
    "    r2=metrics.r2_score(y_true, y_pred)\n",
    "\n",
    "    print('explained_variance: ', round(explained_variance,4))    \n",
    "    print('mean_squared_log_error: ', round(mean_squared_log_error,4))\n",
    "    print('r2: ', round(r2,4))\n",
    "    print('MAE: ', round(mean_absolute_error,4))\n",
    "    print('MSE: ', round(mse,4))\n",
    "    print('RMSE: ', round(np.sqrt(mse),4))"
   ]
  },
  {
   "cell_type": "markdown",
   "id": "577136d1",
   "metadata": {},
   "source": [
    "<a id='cknn'></a>\n",
    "### Model 1: KNN\n",
    "\n",
    "[Back to Top](#top)<br>"
   ]
  },
  {
   "cell_type": "code",
   "execution_count": 449,
   "id": "9e8971cd",
   "metadata": {},
   "outputs": [
    {
     "name": "stdout",
     "output_type": "stream",
     "text": [
      "{'metric': 'manhattan', 'n_neighbors': 7, 'weights': 'distance'}\n"
     ]
    }
   ],
   "source": [
    "#grid_params = { 'n_neighbors' : [5,7,9,11,13,15],\n",
    "#               'weights' : ['uniform','distance'],\n",
    "#               'metric' : ['minkowski','euclidean','manhattan']}\n",
    "\n",
    "#gs = GridSearchCV(KNeighborsClassifier(), grid_params, verbose = 1, cv=3, n_jobs = -1)\n",
    "#g_res = gs.fit(x_train, y_train)\n",
    "#g_res.best_params_\n",
    "print(\"{'metric': 'manhattan', 'n_neighbors': 7, 'weights': 'distance'}\")\n"
   ]
  },
  {
   "cell_type": "markdown",
   "id": "a7e36211",
   "metadata": {},
   "source": [
    "#### Year 2010"
   ]
  },
  {
   "cell_type": "code",
   "execution_count": 450,
   "id": "6efb9719",
   "metadata": {},
   "outputs": [
    {
     "name": "stdout",
     "output_type": "stream",
     "text": [
      "Results for Year 2010:\n",
      "KNeighbors Regressor MSE:  0.0007808480449922746\n",
      "explained_variance:  0.9206\n",
      "mean_squared_log_error:  0.0004\n",
      "r2:  0.4844\n",
      "MAE:  0.0257\n",
      "MSE:  0.0008\n",
      "RMSE:  0.0279\n"
     ]
    }
   ],
   "source": [
    "module2=KNeighborsRegressor(metric='manhattan', n_neighbors=7, weights='distance')\n",
    "module2.fit(X2_train,y2_train)\n",
    "y2_pre=(module2.predict(X2_test))\n",
    "print(\"Results for Year 2010:\")\n",
    "print('KNeighbors Regressor MSE: ',metrics.mean_squared_error(y2_test,y2_pre))\n",
    "regression_results(y2_test,y2_pre)\n"
   ]
  },
  {
   "cell_type": "markdown",
   "id": "82cafc44",
   "metadata": {},
   "source": [
    "#### Year 2012"
   ]
  },
  {
   "cell_type": "code",
   "execution_count": 451,
   "id": "2320c237",
   "metadata": {},
   "outputs": [
    {
     "name": "stdout",
     "output_type": "stream",
     "text": [
      "Results for year 2012:\n",
      "KNeighbors Regressor MSE:  0.0009541496707063581\n",
      "explained_variance:  0.3628\n",
      "mean_squared_log_error:  0.0004\n",
      "r2:  0.3192\n",
      "MAE:  0.027\n",
      "MSE:  0.001\n",
      "RMSE:  0.0309\n"
     ]
    }
   ],
   "source": [
    "module=KNeighborsRegressor(metric='manhattan', n_neighbors=7, weights='distance')\n",
    "module.fit(X_train,y_train)\n",
    "y_pre=(module.predict(X_test))\n",
    "print(\"Results for year 2012:\")\n",
    "print('KNeighbors Regressor MSE: ',metrics.mean_squared_error(y_test,y_pre))\n",
    "regression_results(y_test,y_pre)"
   ]
  },
  {
   "cell_type": "markdown",
   "id": "5ed50aff",
   "metadata": {},
   "source": [
    "<a id='crf'></a>\n",
    "### Model 2: DecisionTree Regressor\n",
    "\n",
    "[Back to Top](#top)<br>"
   ]
  },
  {
   "cell_type": "markdown",
   "id": "96b8f3e3",
   "metadata": {},
   "source": [
    "#### Year 2010"
   ]
  },
  {
   "cell_type": "code",
   "execution_count": 452,
   "id": "f30f63ab",
   "metadata": {},
   "outputs": [
    {
     "name": "stdout",
     "output_type": "stream",
     "text": [
      "{'max_depth': 2, 'min_samples_leaf': 100}\n"
     ]
    }
   ],
   "source": [
    "#grid_params = {'max_depth': [2, 3, 5, 10, 20],\n",
    "#    'min_samples_leaf': [5, 10, 20, 50, 100]\n",
    "#}\n",
    "#gs = GridSearchCV(DecisionTreeRegressor(), grid_params, verbose = 1, cv=3, n_jobs = -1)\n",
    "#g_res = gs.fit(x_train, y_train)\n",
    "#g_res.best_params_\n",
    "print(\"{'max_depth': 2, 'min_samples_leaf': 100}\")"
   ]
  },
  {
   "cell_type": "code",
   "execution_count": 453,
   "id": "94db3adb",
   "metadata": {},
   "outputs": [
    {
     "name": "stdout",
     "output_type": "stream",
     "text": [
      "DecisionTree Regressor MSE:  0.0017587161263335944\n",
      "explained_variance:  0.0\n",
      "mean_squared_log_error:  0.0009\n",
      "r2:  -0.1612\n",
      "MAE:  0.0405\n",
      "MSE:  0.0018\n",
      "RMSE:  0.0419\n"
     ]
    }
   ],
   "source": [
    "module2B=DecisionTreeRegressor(max_depth= 2, min_samples_leaf= 100)\n",
    "module2B.fit(X2_train,y2_train)\n",
    "y2_pre2=(module2B.predict(X2_test))\n",
    "print('DecisionTree Regressor MSE: ',metrics.mean_squared_error(y2_test,y2_pre2))\n",
    "regression_results(y2_test,y2_pre2)"
   ]
  },
  {
   "cell_type": "markdown",
   "id": "a20503eb",
   "metadata": {},
   "source": [
    "#### Year 2012"
   ]
  },
  {
   "cell_type": "code",
   "execution_count": 454,
   "id": "ea028add",
   "metadata": {},
   "outputs": [
    {
     "name": "stdout",
     "output_type": "stream",
     "text": [
      "DecisionTree Regressor MSE:  0.001639057991934923\n",
      "explained_variance:  0.0\n",
      "mean_squared_log_error:  0.0007\n",
      "r2:  -0.1696\n",
      "MAE:  0.0328\n",
      "MSE:  0.0016\n",
      "RMSE:  0.0405\n"
     ]
    }
   ],
   "source": [
    "moduleB=DecisionTreeRegressor(max_depth= 2, min_samples_leaf= 100)\n",
    "moduleB.fit(X_train,y_train)\n",
    "y_pre2=(moduleB.predict(X_test))\n",
    "print('DecisionTree Regressor MSE: ',metrics.mean_squared_error(y_test,y_pre2))\n",
    "regression_results(y_test,y_pre2)"
   ]
  },
  {
   "cell_type": "markdown",
   "id": "644e3e5e",
   "metadata": {},
   "source": [
    "<a id='clr'></a>\n",
    "### Model 3: Linear Regression\n",
    "\n",
    "[Back to Top](#top)<br>"
   ]
  },
  {
   "cell_type": "markdown",
   "id": "d25426e3",
   "metadata": {},
   "source": [
    "#### Year 2010"
   ]
  },
  {
   "cell_type": "code",
   "execution_count": 455,
   "id": "ff3bbafe",
   "metadata": {},
   "outputs": [
    {
     "name": "stdout",
     "output_type": "stream",
     "text": [
      "LinearRegression MSE:  0.0007546757110616824\n",
      "explained_variance:  0.5381\n",
      "mean_squared_log_error:  0.0004\n",
      "r2:  0.5017\n",
      "MAE:  0.0227\n",
      "MSE:  0.0008\n",
      "RMSE:  0.0275\n"
     ]
    }
   ],
   "source": [
    "module2C=LinearRegression()\n",
    "module2C.fit(X2_train,y2_train)\n",
    "y2_preC=(module2C.predict(X2_test))\n",
    "print('LinearRegression MSE: ',metrics.mean_squared_error(y2_test,y2_preC))\n",
    "regression_results(y2_test,y2_preC)"
   ]
  },
  {
   "cell_type": "markdown",
   "id": "b5f3423d",
   "metadata": {},
   "source": [
    "#### Year 2012"
   ]
  },
  {
   "cell_type": "code",
   "execution_count": 456,
   "id": "11b8eef2",
   "metadata": {},
   "outputs": [
    {
     "name": "stdout",
     "output_type": "stream",
     "text": [
      "LinearRegression Regressor MSE:  0.001869330000591626\n",
      "explained_variance:  -0.3083\n",
      "mean_squared_log_error:  0.0008\n",
      "r2:  -0.3339\n",
      "MAE:  0.0335\n",
      "MSE:  0.0019\n",
      "RMSE:  0.0432\n"
     ]
    }
   ],
   "source": [
    "moduleC=LinearRegression()\n",
    "moduleC.fit(X_train,y_train)\n",
    "y_preC=(moduleC.predict(X_test))\n",
    "print('LinearRegression Regressor MSE: ',metrics.mean_squared_error(y_test,y_preC))\n",
    "regression_results(y_test,y_preC)"
   ]
  },
  {
   "cell_type": "markdown",
   "id": "ddf4c140",
   "metadata": {},
   "source": [
    "<a id='D'></a>\n",
    "## Rebublican or Democrat\n",
    "\n",
    "[Back to Top](#top)<br>"
   ]
  },
  {
   "cell_type": "markdown",
   "id": "78d24e1a",
   "metadata": {},
   "source": [
    "### 1. Using the total votes counted by state in house elections cycle to create the label"
   ]
  },
  {
   "cell_type": "code",
   "execution_count": 459,
   "id": "1a34dee0",
   "metadata": {},
   "outputs": [],
   "source": [
    "house_df_d = house_df.copy()"
   ]
  },
  {
   "cell_type": "code",
   "execution_count": 460,
   "id": "975738d7",
   "metadata": {},
   "outputs": [],
   "source": [
    "#summing up votes in states for each party\n",
    "grouped_df = house_df.groupby([\"state\",\"year\",\"party\"])\n",
    "mean_df = grouped_df['candidatevotes'].sum().reset_index()\n",
    "\n",
    "#getting row with most votes \n",
    "idx=mean_df.groupby(by=[\"state\",\"year\"])['candidatevotes'].idxmax()\n",
    "df_max=mean_df.loc[idx,]"
   ]
  },
  {
   "cell_type": "code",
   "execution_count": 461,
   "id": "50e76d95",
   "metadata": {},
   "outputs": [
    {
     "data": {
      "text/html": [
       "<div>\n",
       "<style scoped>\n",
       "    .dataframe tbody tr th:only-of-type {\n",
       "        vertical-align: middle;\n",
       "    }\n",
       "\n",
       "    .dataframe tbody tr th {\n",
       "        vertical-align: top;\n",
       "    }\n",
       "\n",
       "    .dataframe thead th {\n",
       "        text-align: right;\n",
       "    }\n",
       "</style>\n",
       "<table border=\"1\" class=\"dataframe\">\n",
       "  <thead>\n",
       "    <tr style=\"text-align: right;\">\n",
       "      <th></th>\n",
       "      <th>state</th>\n",
       "      <th>year</th>\n",
       "      <th>party</th>\n",
       "      <th>candidatevotes</th>\n",
       "    </tr>\n",
       "  </thead>\n",
       "  <tbody>\n",
       "    <tr>\n",
       "      <th>2465</th>\n",
       "      <td>NEW HAMPSHIRE</td>\n",
       "      <td>1976</td>\n",
       "      <td>DEMOCRAT</td>\n",
       "      <td>173598</td>\n",
       "    </tr>\n",
       "    <tr>\n",
       "      <th>2209</th>\n",
       "      <td>MISSOURI</td>\n",
       "      <td>2008</td>\n",
       "      <td>DEMOCRAT</td>\n",
       "      <td>1413016</td>\n",
       "    </tr>\n",
       "    <tr>\n",
       "      <th>2445</th>\n",
       "      <td>NEVADA</td>\n",
       "      <td>2012</td>\n",
       "      <td>REPUBLICAN</td>\n",
       "      <td>457239</td>\n",
       "    </tr>\n",
       "    <tr>\n",
       "      <th>3210</th>\n",
       "      <td>NORTH CAROLINA</td>\n",
       "      <td>1990</td>\n",
       "      <td>DEMOCRAT</td>\n",
       "      <td>1076340</td>\n",
       "    </tr>\n",
       "    <tr>\n",
       "      <th>1409</th>\n",
       "      <td>KENTUCKY</td>\n",
       "      <td>1986</td>\n",
       "      <td>DEMOCRAT</td>\n",
       "      <td>374742</td>\n",
       "    </tr>\n",
       "  </tbody>\n",
       "</table>\n",
       "</div>"
      ],
      "text/plain": [
       "               state  year       party  candidatevotes\n",
       "2465   NEW HAMPSHIRE  1976    DEMOCRAT          173598\n",
       "2209        MISSOURI  2008    DEMOCRAT         1413016\n",
       "2445          NEVADA  2012  REPUBLICAN          457239\n",
       "3210  NORTH CAROLINA  1990    DEMOCRAT         1076340\n",
       "1409        KENTUCKY  1986    DEMOCRAT          374742"
      ]
     },
     "execution_count": 461,
     "metadata": {},
     "output_type": "execute_result"
    }
   ],
   "source": [
    "df_max.sample(5)"
   ]
  },
  {
   "cell_type": "code",
   "execution_count": 462,
   "id": "5bcb7004",
   "metadata": {},
   "outputs": [
    {
     "data": {
      "text/plain": [
       "DEMOCRAT                   573\n",
       "REPUBLICAN                 561\n",
       "DEMOCRATIC-FARMER-LABOR      9\n",
       "INDEPENDENT                  8\n",
       "Name: party, dtype: int64"
      ]
     },
     "execution_count": 462,
     "metadata": {},
     "output_type": "execute_result"
    }
   ],
   "source": [
    "df_max[\"party\"].value_counts()"
   ]
  },
  {
   "cell_type": "markdown",
   "id": "2a60ddf0",
   "metadata": {},
   "source": [
    "* state of vermont had an INDEPENDENT party winner in the following years - so we have to check republican > democrat in this state in these years"
   ]
  },
  {
   "cell_type": "code",
   "execution_count": 463,
   "id": "e52cdced",
   "metadata": {},
   "outputs": [
    {
     "data": {
      "text/html": [
       "<div>\n",
       "<style scoped>\n",
       "    .dataframe tbody tr th:only-of-type {\n",
       "        vertical-align: middle;\n",
       "    }\n",
       "\n",
       "    .dataframe tbody tr th {\n",
       "        vertical-align: top;\n",
       "    }\n",
       "\n",
       "    .dataframe thead th {\n",
       "        text-align: right;\n",
       "    }\n",
       "</style>\n",
       "<table border=\"1\" class=\"dataframe\">\n",
       "  <thead>\n",
       "    <tr style=\"text-align: right;\">\n",
       "      <th></th>\n",
       "      <th>state</th>\n",
       "      <th>year</th>\n",
       "      <th>party</th>\n",
       "      <th>candidatevotes</th>\n",
       "    </tr>\n",
       "  </thead>\n",
       "  <tbody>\n",
       "    <tr>\n",
       "      <th>4267</th>\n",
       "      <td>VERMONT</td>\n",
       "      <td>1990</td>\n",
       "      <td>INDEPENDENT</td>\n",
       "      <td>117522</td>\n",
       "    </tr>\n",
       "    <tr>\n",
       "      <th>4272</th>\n",
       "      <td>VERMONT</td>\n",
       "      <td>1992</td>\n",
       "      <td>INDEPENDENT</td>\n",
       "      <td>162724</td>\n",
       "    </tr>\n",
       "    <tr>\n",
       "      <th>4277</th>\n",
       "      <td>VERMONT</td>\n",
       "      <td>1994</td>\n",
       "      <td>INDEPENDENT</td>\n",
       "      <td>105502</td>\n",
       "    </tr>\n",
       "    <tr>\n",
       "      <th>4283</th>\n",
       "      <td>VERMONT</td>\n",
       "      <td>1996</td>\n",
       "      <td>INDEPENDENT</td>\n",
       "      <td>140678</td>\n",
       "    </tr>\n",
       "    <tr>\n",
       "      <th>4288</th>\n",
       "      <td>VERMONT</td>\n",
       "      <td>1998</td>\n",
       "      <td>INDEPENDENT</td>\n",
       "      <td>136403</td>\n",
       "    </tr>\n",
       "    <tr>\n",
       "      <th>4294</th>\n",
       "      <td>VERMONT</td>\n",
       "      <td>2000</td>\n",
       "      <td>INDEPENDENT</td>\n",
       "      <td>207934</td>\n",
       "    </tr>\n",
       "    <tr>\n",
       "      <th>4298</th>\n",
       "      <td>VERMONT</td>\n",
       "      <td>2002</td>\n",
       "      <td>INDEPENDENT</td>\n",
       "      <td>144880</td>\n",
       "    </tr>\n",
       "    <tr>\n",
       "      <th>4304</th>\n",
       "      <td>VERMONT</td>\n",
       "      <td>2004</td>\n",
       "      <td>INDEPENDENT</td>\n",
       "      <td>205774</td>\n",
       "    </tr>\n",
       "  </tbody>\n",
       "</table>\n",
       "</div>"
      ],
      "text/plain": [
       "        state  year        party  candidatevotes\n",
       "4267  VERMONT  1990  INDEPENDENT          117522\n",
       "4272  VERMONT  1992  INDEPENDENT          162724\n",
       "4277  VERMONT  1994  INDEPENDENT          105502\n",
       "4283  VERMONT  1996  INDEPENDENT          140678\n",
       "4288  VERMONT  1998  INDEPENDENT          136403\n",
       "4294  VERMONT  2000  INDEPENDENT          207934\n",
       "4298  VERMONT  2002  INDEPENDENT          144880\n",
       "4304  VERMONT  2004  INDEPENDENT          205774"
      ]
     },
     "execution_count": 463,
     "metadata": {},
     "output_type": "execute_result"
    }
   ],
   "source": [
    "df_max[df_max['party']=='INDEPENDENT']"
   ]
  },
  {
   "cell_type": "code",
   "execution_count": 464,
   "id": "6d4814cb",
   "metadata": {},
   "outputs": [],
   "source": [
    "house_df_d = house_df.copy()\n",
    "house_df_d.drop(house_df_d[house_df_d['party'] == 'INDEPENDENT' ].index, inplace=True)\n",
    "#summing up votes in states for each party\n",
    "grouped_df = house_df_d.groupby([\"state\",\"year\",\"party\"])\n",
    "mean_df = grouped_df['candidatevotes'].sum().reset_index()\n",
    "\n",
    "#getting row with most votes \n",
    "idx=mean_df.groupby(by=[\"state\",\"year\"])['candidatevotes'].idxmax()\n",
    "df_max=mean_df.loc[idx,]"
   ]
  },
  {
   "cell_type": "code",
   "execution_count": 465,
   "id": "5f35ded8",
   "metadata": {},
   "outputs": [
    {
     "data": {
      "text/plain": [
       "DEMOCRAT                   573\n",
       "REPUBLICAN                 569\n",
       "DEMOCRATIC-FARMER-LABOR      9\n",
       "Name: party, dtype: int64"
      ]
     },
     "execution_count": 465,
     "metadata": {},
     "output_type": "execute_result"
    }
   ],
   "source": [
    "df_max[\"party\"].value_counts()"
   ]
  },
  {
   "cell_type": "markdown",
   "id": "15f67491",
   "metadata": {},
   "source": [
    "#### * Adding labels R,D accordingly "
   ]
  },
  {
   "cell_type": "code",
   "execution_count": 466,
   "id": "381fb68b",
   "metadata": {},
   "outputs": [],
   "source": [
    "df_max.loc[df_max['party'].str.contains('DEM',na=False), 'target'] = 'D'\n",
    "df_max.loc[df_max['party'].str.contains('REP',na=False), 'target'] = 'R'"
   ]
  },
  {
   "cell_type": "code",
   "execution_count": 467,
   "id": "e7f2c42c",
   "metadata": {},
   "outputs": [
    {
     "data": {
      "text/html": [
       "<div>\n",
       "<style scoped>\n",
       "    .dataframe tbody tr th:only-of-type {\n",
       "        vertical-align: middle;\n",
       "    }\n",
       "\n",
       "    .dataframe tbody tr th {\n",
       "        vertical-align: top;\n",
       "    }\n",
       "\n",
       "    .dataframe thead th {\n",
       "        text-align: right;\n",
       "    }\n",
       "</style>\n",
       "<table border=\"1\" class=\"dataframe\">\n",
       "  <thead>\n",
       "    <tr style=\"text-align: right;\">\n",
       "      <th></th>\n",
       "      <th>state</th>\n",
       "      <th>year</th>\n",
       "      <th>party</th>\n",
       "      <th>candidatevotes</th>\n",
       "      <th>target</th>\n",
       "    </tr>\n",
       "  </thead>\n",
       "  <tbody>\n",
       "    <tr>\n",
       "      <th>129</th>\n",
       "      <td>ALASKA</td>\n",
       "      <td>2016</td>\n",
       "      <td>REPUBLICAN</td>\n",
       "      <td>155088</td>\n",
       "      <td>R</td>\n",
       "    </tr>\n",
       "    <tr>\n",
       "      <th>278</th>\n",
       "      <td>ARKANSAS</td>\n",
       "      <td>2020</td>\n",
       "      <td>REPUBLICAN</td>\n",
       "      <td>828266</td>\n",
       "      <td>R</td>\n",
       "    </tr>\n",
       "    <tr>\n",
       "      <th>671</th>\n",
       "      <td>DELAWARE</td>\n",
       "      <td>1998</td>\n",
       "      <td>REPUBLICAN</td>\n",
       "      <td>119811</td>\n",
       "      <td>R</td>\n",
       "    </tr>\n",
       "    <tr>\n",
       "      <th>4314</th>\n",
       "      <td>WYOMING</td>\n",
       "      <td>1998</td>\n",
       "      <td>REPUBLICAN</td>\n",
       "      <td>100687</td>\n",
       "      <td>R</td>\n",
       "    </tr>\n",
       "    <tr>\n",
       "      <th>1192</th>\n",
       "      <td>IOWA</td>\n",
       "      <td>2000</td>\n",
       "      <td>REPUBLICAN</td>\n",
       "      <td>717322</td>\n",
       "      <td>R</td>\n",
       "    </tr>\n",
       "  </tbody>\n",
       "</table>\n",
       "</div>"
      ],
      "text/plain": [
       "         state  year       party  candidatevotes target\n",
       "129     ALASKA  2016  REPUBLICAN          155088      R\n",
       "278   ARKANSAS  2020  REPUBLICAN          828266      R\n",
       "671   DELAWARE  1998  REPUBLICAN          119811      R\n",
       "4314   WYOMING  1998  REPUBLICAN          100687      R\n",
       "1192      IOWA  2000  REPUBLICAN          717322      R"
      ]
     },
     "execution_count": 467,
     "metadata": {},
     "output_type": "execute_result"
    }
   ],
   "source": [
    "df_max.sample(5)"
   ]
  },
  {
   "cell_type": "markdown",
   "id": "b368f665",
   "metadata": {},
   "source": [
    "<a id='d2'></a>\n",
    "# 2. Using at least 6 features\n",
    " * writein percentage per state (in each year)\n",
    " * fusion_ticket percentage per state (in each year)\n",
    " * state\n",
    " * year\n",
    " * water/land area\n",
    " * number of districts\n",
    " * total votes\n",
    " \n",
    " [Back to Top](#top)<br>"
   ]
  },
  {
   "cell_type": "code",
   "execution_count": 468,
   "id": "3544d849",
   "metadata": {},
   "outputs": [],
   "source": [
    "secD_df = df_max.copy()"
   ]
  },
  {
   "cell_type": "code",
   "execution_count": 469,
   "id": "1bc90c94",
   "metadata": {},
   "outputs": [],
   "source": [
    "house_df = house_df_d.copy()"
   ]
  },
  {
   "cell_type": "markdown",
   "id": "7da7587f",
   "metadata": {},
   "source": [
    "#### starting with writein:"
   ]
  },
  {
   "cell_type": "code",
   "execution_count": 470,
   "id": "0db445f7",
   "metadata": {},
   "outputs": [],
   "source": [
    "temp_true = house_df[house_df[\"writein\"]==True]\n",
    "temp_false = house_df[house_df[\"writein\"]==False]\n",
    "\n",
    "\n",
    "count_true = temp_true.groupby(by=[\"state\",\"year\"])['writein'].count().reset_index()\n",
    "count_false = temp_false.groupby(by=[\"state\",\"year\"])['writein'].count().reset_index()"
   ]
  },
  {
   "cell_type": "code",
   "execution_count": 471,
   "id": "739baa01",
   "metadata": {},
   "outputs": [],
   "source": [
    "writein_df = count_false.merge(count_true, on=['state' , 'year'] , how = 'outer') \n",
    "writein_df['writein_y'] = writein_df['writein_y'].replace(np.nan, 0)\n",
    "writein_df['writein_x'] = writein_df['writein_x'].replace(np.nan, 0)\n",
    "\n",
    "writein_df['writein'] = writein_df['writein_y'] / (writein_df['writein_y'] + writein_df['writein_x'])"
   ]
  },
  {
   "cell_type": "code",
   "execution_count": 472,
   "id": "9c1be498",
   "metadata": {},
   "outputs": [],
   "source": [
    "writein_df.drop(['writein_y','writein_x'], axis=1, inplace=True)"
   ]
  },
  {
   "cell_type": "code",
   "execution_count": 473,
   "id": "4060108e",
   "metadata": {},
   "outputs": [],
   "source": [
    "secD_df= writein_df.merge(secD_df, on=['state' , 'year']) "
   ]
  },
  {
   "cell_type": "markdown",
   "id": "3e6c8592",
   "metadata": {},
   "source": [
    "#### fusion_ticket:"
   ]
  },
  {
   "cell_type": "code",
   "execution_count": 474,
   "id": "9dc703f2",
   "metadata": {},
   "outputs": [],
   "source": [
    "temp_true = house_df[house_df[\"fusion_ticket\"]==True]\n",
    "temp_false = house_df[house_df[\"fusion_ticket\"]==False]\n",
    "\n",
    "count_true = temp_true.groupby(by=[\"state\",\"year\"])['fusion_ticket'].count().reset_index()\n",
    "count_false = temp_false.groupby(by=[\"state\",\"year\"])['fusion_ticket'].count().reset_index()"
   ]
  },
  {
   "cell_type": "code",
   "execution_count": 475,
   "id": "49e8aee9",
   "metadata": {},
   "outputs": [],
   "source": [
    "fusion_ticket_df = count_false.merge(count_true, on=['state' , 'year'],how='outer') \n",
    "fusion_ticket_df['fusion_ticket_y'] = fusion_ticket_df['fusion_ticket_y'].replace(np.nan, 0)\n",
    "fusion_ticket_df['fusion_ticket_x'] = fusion_ticket_df['fusion_ticket_x'].replace(np.nan, 0)\n",
    "\n",
    "fusion_ticket_df['fusion_ticket'] = fusion_ticket_df['fusion_ticket_y'] / (fusion_ticket_df['fusion_ticket_y'] + fusion_ticket_df['fusion_ticket_x'])"
   ]
  },
  {
   "cell_type": "code",
   "execution_count": 476,
   "id": "79c02354",
   "metadata": {},
   "outputs": [],
   "source": [
    "fusion_ticket_df.drop(['fusion_ticket_y','fusion_ticket_x'], axis=1, inplace=True)"
   ]
  },
  {
   "cell_type": "code",
   "execution_count": 477,
   "id": "a8e9278a",
   "metadata": {},
   "outputs": [],
   "source": [
    "secD_df= fusion_ticket_df.merge(secD_df, on=['state' , 'year']) "
   ]
  },
  {
   "cell_type": "markdown",
   "id": "64a733d8",
   "metadata": {},
   "source": [
    "#### number of districts:"
   ]
  },
  {
   "cell_type": "code",
   "execution_count": 478,
   "id": "3e8158fd",
   "metadata": {},
   "outputs": [],
   "source": [
    "grouped_df = house_df.groupby([\"state\",\"year\"])\n",
    "district_df = grouped_df['district'].nunique().reset_index()"
   ]
  },
  {
   "cell_type": "code",
   "execution_count": 479,
   "id": "f3570c59",
   "metadata": {},
   "outputs": [],
   "source": [
    "secD_df= district_df.merge(secD_df, on=['state' , 'year']) "
   ]
  },
  {
   "cell_type": "markdown",
   "id": "260d3916",
   "metadata": {},
   "source": [
    "#### total votes:"
   ]
  },
  {
   "cell_type": "code",
   "execution_count": 480,
   "id": "0714cdf5",
   "metadata": {},
   "outputs": [],
   "source": [
    "grouped_df = house_df.groupby([\"state\",\"year\",\"district\"])\n",
    "mean_df = grouped_df['totalvotes'].first().reset_index()\n",
    "\n",
    "grouped_df = mean_df.groupby([\"state\",\"year\"])\n",
    "votes_df = grouped_df['totalvotes'].sum().reset_index()"
   ]
  },
  {
   "cell_type": "code",
   "execution_count": 481,
   "id": "76693403",
   "metadata": {},
   "outputs": [],
   "source": [
    "secD_df= votes_df.merge(secD_df, on=['state' , 'year']) "
   ]
  },
  {
   "cell_type": "markdown",
   "id": "c0779486",
   "metadata": {},
   "source": [
    "#### * land/water area:"
   ]
  },
  {
   "cell_type": "code",
   "execution_count": 482,
   "id": "7a75d4c4",
   "metadata": {},
   "outputs": [],
   "source": [
    "grouped_df = water_area_df.groupby([\"State\"])\n",
    "water_df = grouped_df['Water Area'].sum().reset_index()\n",
    "\n",
    "grouped_df = land_area_df.groupby([\"State\"])\n",
    "land_df = grouped_df['Land Area'].sum().reset_index()\n",
    "\n",
    "area_perc_df = land_df.merge(water_df, on=['State'],how='outer') \n",
    "area_perc_df.rename({\"State\": \"state\"}, axis=\"columns\", inplace=True)\n",
    "\n",
    "area_perc_df[\"state\"] = area_perc_df['state'].astype(str).str.upper()"
   ]
  },
  {
   "cell_type": "code",
   "execution_count": 483,
   "id": "2d23967a",
   "metadata": {},
   "outputs": [],
   "source": [
    "secD_df= area_perc_df.merge(secD_df, on=['state']) "
   ]
  },
  {
   "cell_type": "code",
   "execution_count": 484,
   "id": "3fd547d5",
   "metadata": {},
   "outputs": [
    {
     "data": {
      "text/html": [
       "<div>\n",
       "<style scoped>\n",
       "    .dataframe tbody tr th:only-of-type {\n",
       "        vertical-align: middle;\n",
       "    }\n",
       "\n",
       "    .dataframe tbody tr th {\n",
       "        vertical-align: top;\n",
       "    }\n",
       "\n",
       "    .dataframe thead th {\n",
       "        text-align: right;\n",
       "    }\n",
       "</style>\n",
       "<table border=\"1\" class=\"dataframe\">\n",
       "  <thead>\n",
       "    <tr style=\"text-align: right;\">\n",
       "      <th></th>\n",
       "      <th>state</th>\n",
       "      <th>Land Area</th>\n",
       "      <th>Water Area</th>\n",
       "      <th>year</th>\n",
       "      <th>totalvotes</th>\n",
       "      <th>district</th>\n",
       "      <th>fusion_ticket</th>\n",
       "      <th>writein</th>\n",
       "      <th>party</th>\n",
       "      <th>candidatevotes</th>\n",
       "      <th>target</th>\n",
       "    </tr>\n",
       "  </thead>\n",
       "  <tbody>\n",
       "    <tr>\n",
       "      <th>90</th>\n",
       "      <td>CALIFORNIA</td>\n",
       "      <td>403970.1</td>\n",
       "      <td>7874.3</td>\n",
       "      <td>2018</td>\n",
       "      <td>12184522</td>\n",
       "      <td>53</td>\n",
       "      <td>0.000000</td>\n",
       "      <td>0.000000</td>\n",
       "      <td>DEMOCRAT</td>\n",
       "      <td>8010445</td>\n",
       "      <td>D</td>\n",
       "    </tr>\n",
       "    <tr>\n",
       "      <th>134</th>\n",
       "      <td>CONNECTICUT</td>\n",
       "      <td>12549.5</td>\n",
       "      <td>91.0</td>\n",
       "      <td>2014</td>\n",
       "      <td>1067857</td>\n",
       "      <td>5</td>\n",
       "      <td>0.571429</td>\n",
       "      <td>0.095238</td>\n",
       "      <td>DEMOCRAT</td>\n",
       "      <td>596390</td>\n",
       "      <td>D</td>\n",
       "    </tr>\n",
       "    <tr>\n",
       "      <th>1025</th>\n",
       "      <td>WASHINGTON</td>\n",
       "      <td>172447.2</td>\n",
       "      <td>6402.1</td>\n",
       "      <td>2000</td>\n",
       "      <td>2382411</td>\n",
       "      <td>9</td>\n",
       "      <td>0.000000</td>\n",
       "      <td>0.000000</td>\n",
       "      <td>DEMOCRAT</td>\n",
       "      <td>1245872</td>\n",
       "      <td>D</td>\n",
       "    </tr>\n",
       "    <tr>\n",
       "      <th>548</th>\n",
       "      <td>MONTANA</td>\n",
       "      <td>376991.4</td>\n",
       "      <td>3755.4</td>\n",
       "      <td>2012</td>\n",
       "      <td>479740</td>\n",
       "      <td>1</td>\n",
       "      <td>0.000000</td>\n",
       "      <td>0.000000</td>\n",
       "      <td>REPUBLICAN</td>\n",
       "      <td>255468</td>\n",
       "      <td>R</td>\n",
       "    </tr>\n",
       "    <tr>\n",
       "      <th>396</th>\n",
       "      <td>MARYLAND</td>\n",
       "      <td>25316.1</td>\n",
       "      <td>3826.6</td>\n",
       "      <td>1984</td>\n",
       "      <td>1495280</td>\n",
       "      <td>8</td>\n",
       "      <td>0.000000</td>\n",
       "      <td>0.000000</td>\n",
       "      <td>DEMOCRAT</td>\n",
       "      <td>954873</td>\n",
       "      <td>D</td>\n",
       "    </tr>\n",
       "  </tbody>\n",
       "</table>\n",
       "</div>"
      ],
      "text/plain": [
       "            state  Land Area  Water Area  year  totalvotes  district  \\\n",
       "90     CALIFORNIA   403970.1      7874.3  2018    12184522        53   \n",
       "134   CONNECTICUT    12549.5        91.0  2014     1067857         5   \n",
       "1025   WASHINGTON   172447.2      6402.1  2000     2382411         9   \n",
       "548       MONTANA   376991.4      3755.4  2012      479740         1   \n",
       "396      MARYLAND    25316.1      3826.6  1984     1495280         8   \n",
       "\n",
       "      fusion_ticket   writein       party  candidatevotes target  \n",
       "90         0.000000  0.000000    DEMOCRAT         8010445      D  \n",
       "134        0.571429  0.095238    DEMOCRAT          596390      D  \n",
       "1025       0.000000  0.000000    DEMOCRAT         1245872      D  \n",
       "548        0.000000  0.000000  REPUBLICAN          255468      R  \n",
       "396        0.000000  0.000000    DEMOCRAT          954873      D  "
      ]
     },
     "execution_count": 484,
     "metadata": {},
     "output_type": "execute_result"
    }
   ],
   "source": [
    "secD_df.sample(5)"
   ]
  },
  {
   "cell_type": "code",
   "execution_count": 485,
   "id": "5367072f",
   "metadata": {},
   "outputs": [
    {
     "data": {
      "text/plain": [
       "state              object\n",
       "Land Area         float64\n",
       "Water Area        float64\n",
       "year                int64\n",
       "totalvotes          int64\n",
       "district            int64\n",
       "fusion_ticket     float64\n",
       "writein           float64\n",
       "party              object\n",
       "candidatevotes      int64\n",
       "target             object\n",
       "dtype: object"
      ]
     },
     "execution_count": 485,
     "metadata": {},
     "output_type": "execute_result"
    }
   ],
   "source": [
    "secD_df.dtypes"
   ]
  },
  {
   "cell_type": "code",
   "execution_count": 486,
   "id": "81975618",
   "metadata": {},
   "outputs": [],
   "source": [
    "\n",
    "\n",
    "d_features = list(secD_df.columns)\n",
    "d_features.remove('candidatevotes')\n",
    "d_features.remove('target')\n",
    "d_features.remove('state')\n",
    "d_features.remove('party')\n",
    "\n",
    "secD_df.loc[secD_df['target'] == 'R', 'target'] = 0\n",
    "secD_df.loc[secD_df['target'] == 'D', 'target'] = 1\n",
    "\n",
    "secD_df['target'] = pd.to_numeric(secD_df['target'])\n",
    "\n",
    "\n",
    "X_train, X_test, y_train, y_test = train_test_split(secD_df[d_features], secD_df['target'], test_size=0.1, random_state=0 )\n",
    "\n"
   ]
  },
  {
   "cell_type": "markdown",
   "id": "7eb36471",
   "metadata": {},
   "source": [
    "<a id='dsvm'></a>\n",
    "### Model 1: SVM\n",
    "\n",
    "[Back to Top](#top)<br>"
   ]
  },
  {
   "cell_type": "code",
   "execution_count": 487,
   "id": "549737c8",
   "metadata": {
    "scrolled": true
   },
   "outputs": [
    {
     "name": "stdout",
     "output_type": "stream",
     "text": [
      "Fitting 5 folds for each of 180 candidates, totalling 900 fits\n"
     ]
    },
    {
     "data": {
      "text/plain": [
       "{'C': 500, 'degree': 1, 'gamma': 'scale', 'kernel': 'rbf'}"
      ]
     },
     "execution_count": 487,
     "metadata": {},
     "output_type": "execute_result"
    }
   ],
   "source": [
    "param_grid = {'C': [0.1, 1, 5, 50, 500],\n",
    "              'gamma': [1, 0.1, 0.01, 0.001, 0.0001, 'scale'],\n",
    "              'degree' : [1,2,3,4,5,6],\n",
    "              'kernel': ['rbf']}\n",
    " \n",
    "grid = GridSearchCV(svm.SVC(), param_grid, refit = True, verbose = 1)\n",
    "\n",
    "grid_res = grid.fit(X_train, y_train)\n",
    "grid_res.best_params_"
   ]
  },
  {
   "cell_type": "code",
   "execution_count": 488,
   "id": "ace71bc9",
   "metadata": {},
   "outputs": [
    {
     "name": "stdout",
     "output_type": "stream",
     "text": [
      "Report \n",
      "               precision    recall  f1-score   support\n",
      "\n",
      "           0       0.33      0.52      0.40        31\n",
      "           1       0.76      0.59      0.66        80\n",
      "\n",
      "    accuracy                           0.57       111\n",
      "   macro avg       0.54      0.55      0.53       111\n",
      "weighted avg       0.64      0.57      0.59       111\n",
      "\n"
     ]
    }
   ],
   "source": [
    "module1 = svm.SVC(C= 50, degree= 1, gamma= 'scale', kernel= 'rbf')\n",
    "module1.fit(X_train,y_train)\n",
    "y_pre1=(module1.predict(X_test))\n",
    "print(\"Report \\n\",classification_report(y_pre1,y_test))"
   ]
  },
  {
   "cell_type": "markdown",
   "id": "6571b0d4",
   "metadata": {},
   "source": [
    "<a id='drf'></a>\n",
    "### Model 2: Random Forest\n",
    "\n",
    "[Back to Top](#top)<br>"
   ]
  },
  {
   "cell_type": "code",
   "execution_count": 489,
   "id": "fb29f9e6",
   "metadata": {},
   "outputs": [
    {
     "name": "stdout",
     "output_type": "stream",
     "text": [
      "Fitting 2 folds for each of 192 candidates, totalling 384 fits\n"
     ]
    },
    {
     "data": {
      "text/plain": [
       "{'bootstrap': False,\n",
       " 'max_depth': 40,\n",
       " 'max_features': 'auto',\n",
       " 'min_samples_split': 5,\n",
       " 'n_estimators': 200}"
      ]
     },
     "execution_count": 489,
     "metadata": {},
     "output_type": "execute_result"
    }
   ],
   "source": [
    "grid_params = {'bootstrap': [True, False],\n",
    " 'max_depth': [10, 20, 40, 60],\n",
    " 'max_features': ['auto', 'sqrt'],\n",
    " 'min_samples_split': [2, 5, 10],\n",
    " 'n_estimators': [200, 400, 600, 800]}\n",
    "\n",
    "gs = GridSearchCV(RandomForestClassifier(), grid_params, verbose = 1, cv=2, n_jobs = -1)\n",
    "g_res = gs.fit(X_train, y_train)\n",
    "g_res.best_params_"
   ]
  },
  {
   "cell_type": "code",
   "execution_count": 490,
   "id": "fe0254b1",
   "metadata": {},
   "outputs": [
    {
     "name": "stdout",
     "output_type": "stream",
     "text": [
      "Report \n",
      "               precision    recall  f1-score   support\n",
      "\n",
      "           0       0.90      0.76      0.82        58\n",
      "           1       0.77      0.91      0.83        53\n",
      "\n",
      "    accuracy                           0.83       111\n",
      "   macro avg       0.84      0.83      0.83       111\n",
      "weighted avg       0.84      0.83      0.83       111\n",
      "\n"
     ]
    }
   ],
   "source": [
    "module2=RandomForestClassifier(bootstrap=False,max_depth=20,max_features='auto', min_samples_split=5,n_estimators=200)\n",
    "module2.fit(X_train,y_train)\n",
    "y_pre2=(module2.predict(X_test))\n",
    "print(\"Report \\n\",classification_report(y_pre2,y_test))"
   ]
  },
  {
   "cell_type": "code",
   "execution_count": 491,
   "id": "bfdf0cda",
   "metadata": {},
   "outputs": [
    {
     "name": "stdout",
     "output_type": "stream",
     "text": [
      "Feature importance for this model:\n",
      "Land Area :  0.2112326094764263\n",
      "Water Area :  0.16946119394179962\n",
      "year :  0.22690511317141993\n",
      "totalvotes :  0.17930292861150443\n",
      "district :  0.11900546594453348\n",
      "fusion_ticket :  0.02135482626864505\n",
      "writein :  0.0727378625856712\n"
     ]
    }
   ],
   "source": [
    "print(\"Feature importance for this model:\")\n",
    "feat_importance = module2.feature_importances_\n",
    "for i in range(0,len(feat_importance)):\n",
    "        print(d_features[i],\": \", feat_importance[i])"
   ]
  },
  {
   "cell_type": "markdown",
   "id": "38c22d32",
   "metadata": {},
   "source": [
    "<a id='ddt'></a>\n",
    "### Model 3: Decision Tree\n",
    "\n",
    "[Back to Top](#top)<br>"
   ]
  },
  {
   "cell_type": "code",
   "execution_count": 492,
   "id": "7d2358cc",
   "metadata": {},
   "outputs": [
    {
     "data": {
      "text/plain": [
       "GridSearchCV(estimator=DecisionTreeClassifier(),\n",
       "             param_grid={'criterion': ['gini', 'entropy'],\n",
       "                         'max_depth': [4, 5, 6, 7, 8, 10],\n",
       "                         'max_leaf_nodes': [3, 4, 5, 6, 7, 8],\n",
       "                         'min_samples_split': [2, 3, 4]})"
      ]
     },
     "execution_count": 492,
     "metadata": {},
     "output_type": "execute_result"
    }
   ],
   "source": [
    "dtree = DecisionTreeClassifier()\n",
    "dtree.fit(X_train,y_train)\n",
    "clf = GridSearchCV(dtree, \n",
    "                  {'criterion': [\"gini\",\"entropy\"],\n",
    "                   'max_depth':[4,5,6,7,8,10],\n",
    "                    'min_samples_split':[2,3,4],\n",
    "                    'max_leaf_nodes':[3,4,5,6,7,8]})\n",
    "clf.fit(X_train,y_train)"
   ]
  },
  {
   "cell_type": "code",
   "execution_count": 493,
   "id": "15f8d6de",
   "metadata": {},
   "outputs": [
    {
     "name": "stdout",
     "output_type": "stream",
     "text": [
      "{'criterion': 'entropy', 'max_depth': 6, 'max_leaf_nodes': 8, 'min_samples_split': 2}\n"
     ]
    }
   ],
   "source": [
    "print(clf.best_params_)"
   ]
  },
  {
   "cell_type": "code",
   "execution_count": 494,
   "id": "e426dc20",
   "metadata": {
    "scrolled": true
   },
   "outputs": [
    {
     "name": "stdout",
     "output_type": "stream",
     "text": [
      "Report \n",
      "               precision    recall  f1-score   support\n",
      "\n",
      "           0       0.80      0.66      0.72        59\n",
      "           1       0.68      0.81      0.74        52\n",
      "\n",
      "    accuracy                           0.73       111\n",
      "   macro avg       0.74      0.73      0.73       111\n",
      "weighted avg       0.74      0.73      0.73       111\n",
      "\n"
     ]
    }
   ],
   "source": [
    "module3=DecisionTreeClassifier(criterion= 'entropy',max_depth=6,max_leaf_nodes=8,min_samples_split=2)\n",
    "module3.fit(X_train,y_train)\n",
    "y_pre3=(module3.predict(X_test))\n",
    "print(\"Report \\n\",classification_report(y_pre3,y_test))"
   ]
  },
  {
   "cell_type": "code",
   "execution_count": 495,
   "id": "2c7b3f4a",
   "metadata": {},
   "outputs": [
    {
     "name": "stdout",
     "output_type": "stream",
     "text": [
      "Feature importance for this model:\n",
      "Land Area :  0.20813369725699316\n",
      "Water Area :  0.29832387277866473\n",
      "year :  0.26802659043391386\n",
      "totalvotes :  0.0\n",
      "district :  0.22551583953042825\n",
      "fusion_ticket :  0.0\n",
      "writein :  0.0\n"
     ]
    }
   ],
   "source": [
    "print(\"Feature importance for this model:\")\n",
    "feat_importance = module3.feature_importances_\n",
    "for i in range(0,len(feat_importance)):\n",
    "        print(d_features[i],\": \", feat_importance[i])\n",
    "    "
   ]
  }
 ],
 "metadata": {
  "kernelspec": {
   "display_name": "Python 3 (ipykernel)",
   "language": "python",
   "name": "python3"
  },
  "language_info": {
   "codemirror_mode": {
    "name": "ipython",
    "version": 3
   },
   "file_extension": ".py",
   "mimetype": "text/x-python",
   "name": "python",
   "nbconvert_exporter": "python",
   "pygments_lexer": "ipython3",
   "version": "3.9.7"
  }
 },
 "nbformat": 4,
 "nbformat_minor": 5
}
